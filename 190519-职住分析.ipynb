{
 "cells": [
  {
   "cell_type": "markdown",
   "metadata": {},
   "source": [
    "# 居住/工作位置识别\n",
    "\n",
    "(1) 居住位置判断规则\n",
    "* 工作日发生\n",
    "* 18:00:00~8:00:00\n",
    "* 次数最多的停驻位置\n",
    "\n",
    "(2) 工作位置判断规则\n",
    "* 工作日发生\n",
    "* 9:00:00~16:00:00\n",
    "* 17个工作日中至少有12天位于同一位置"
   ]
  },
  {
   "cell_type": "code",
   "execution_count": 1,
   "metadata": {
    "collapsed": true
   },
   "outputs": [],
   "source": [
    "import os\n",
    "import numpy as np\n",
    "import pandas as pd\n",
    "import seaborn as sns\n",
    "import geopandas as gpd\n",
    "import shapely\n",
    "import datetime\n",
    "import matplotlib.pyplot as plt\n",
    "%matplotlib inline\n",
    "\n",
    "plt.rcParams['font.family'] = ['sans-serif']\n",
    "plt.rcParams['font.sans-serif'] = ['SimHei']\n",
    "\n",
    "pd.set_option('max_rows',1000)\n",
    "pd.set_option('max_columns',50)\n",
    "\n",
    "os.chdir('E:\\\\zy城市群数据分析\\\\190519导出职住数据')"
   ]
  },
  {
   "cell_type": "markdown",
   "metadata": {},
   "source": [
    "### (0) 栅格对应的数据"
   ]
  },
  {
   "cell_type": "code",
   "execution_count": null,
   "metadata": {
    "collapsed": true
   },
   "outputs": [],
   "source": [
    "# grid = gpd.read_file('../0栅格数据/栅格-乡镇对应/joinRes.shp')          # 栅格数据，已经与乡镇数据连接起来了\n",
    "# town = gpd.read_file('../0栅格数据/9市街道区划/9市街道区划-合并.shp')   # 乡镇数据"
   ]
  },
  {
   "cell_type": "code",
   "execution_count": 2,
   "metadata": {
    "collapsed": true
   },
   "outputs": [],
   "source": [
    "grid = gpd.read_file('../0栅格数据/栅格-乡镇对应/grid_new.shp')\n",
    "town = gpd.read_file('../0栅格数据/栅格-乡镇对应/town_new.shp')"
   ]
  },
  {
   "cell_type": "code",
   "execution_count": 3,
   "metadata": {},
   "outputs": [
    {
     "data": {
      "text/html": [
       "<div>\n",
       "<style scoped>\n",
       "    .dataframe tbody tr th:only-of-type {\n",
       "        vertical-align: middle;\n",
       "    }\n",
       "\n",
       "    .dataframe tbody tr th {\n",
       "        vertical-align: top;\n",
       "    }\n",
       "\n",
       "    .dataframe thead th {\n",
       "        text-align: right;\n",
       "    }\n",
       "</style>\n",
       "<table border=\"1\" class=\"dataframe\">\n",
       "  <thead>\n",
       "    <tr style=\"text-align: right;\">\n",
       "      <th></th>\n",
       "      <th>id</th>\n",
       "      <th>LONCOL</th>\n",
       "      <th>LATCOL</th>\n",
       "      <th>HBLON</th>\n",
       "      <th>HBLAT</th>\n",
       "      <th>name</th>\n",
       "      <th>County</th>\n",
       "      <th>City</th>\n",
       "      <th>Province</th>\n",
       "      <th>GridRing</th>\n",
       "      <th>TownRing</th>\n",
       "      <th>geometry</th>\n",
       "    </tr>\n",
       "  </thead>\n",
       "  <tbody>\n",
       "    <tr>\n",
       "      <th>0</th>\n",
       "      <td>0</td>\n",
       "      <td>0</td>\n",
       "      <td>281</td>\n",
       "      <td>118.357348</td>\n",
       "      <td>31.931298</td>\n",
       "      <td>星甸街道</td>\n",
       "      <td>浦口区</td>\n",
       "      <td>南京市</td>\n",
       "      <td>江苏省</td>\n",
       "      <td>0</td>\n",
       "      <td>0</td>\n",
       "      <td>POLYGON ((118.36 31.92904945779842, 118.354695...</td>\n",
       "    </tr>\n",
       "    <tr>\n",
       "      <th>1</th>\n",
       "      <td>1</td>\n",
       "      <td>0</td>\n",
       "      <td>282</td>\n",
       "      <td>118.357348</td>\n",
       "      <td>31.935794</td>\n",
       "      <td>星甸街道</td>\n",
       "      <td>浦口区</td>\n",
       "      <td>南京市</td>\n",
       "      <td>江苏省</td>\n",
       "      <td>0</td>\n",
       "      <td>0</td>\n",
       "      <td>POLYGON ((118.36 31.93354606300484, 118.354695...</td>\n",
       "    </tr>\n",
       "    <tr>\n",
       "      <th>2</th>\n",
       "      <td>2</td>\n",
       "      <td>0</td>\n",
       "      <td>283</td>\n",
       "      <td>118.357348</td>\n",
       "      <td>31.940291</td>\n",
       "      <td>星甸街道</td>\n",
       "      <td>浦口区</td>\n",
       "      <td>南京市</td>\n",
       "      <td>江苏省</td>\n",
       "      <td>0</td>\n",
       "      <td>0</td>\n",
       "      <td>POLYGON ((118.36 31.93804266821126, 118.354695...</td>\n",
       "    </tr>\n",
       "    <tr>\n",
       "      <th>3</th>\n",
       "      <td>3</td>\n",
       "      <td>1</td>\n",
       "      <td>281</td>\n",
       "      <td>118.362652</td>\n",
       "      <td>31.931298</td>\n",
       "      <td>星甸街道</td>\n",
       "      <td>浦口区</td>\n",
       "      <td>南京市</td>\n",
       "      <td>江苏省</td>\n",
       "      <td>0</td>\n",
       "      <td>0</td>\n",
       "      <td>POLYGON ((118.3653043927706 31.92904945779842,...</td>\n",
       "    </tr>\n",
       "    <tr>\n",
       "      <th>4</th>\n",
       "      <td>4</td>\n",
       "      <td>1</td>\n",
       "      <td>282</td>\n",
       "      <td>118.362652</td>\n",
       "      <td>31.935794</td>\n",
       "      <td>星甸街道</td>\n",
       "      <td>浦口区</td>\n",
       "      <td>南京市</td>\n",
       "      <td>江苏省</td>\n",
       "      <td>0</td>\n",
       "      <td>0</td>\n",
       "      <td>POLYGON ((118.3653043927706 31.93354606300484,...</td>\n",
       "    </tr>\n",
       "  </tbody>\n",
       "</table>\n",
       "</div>"
      ],
      "text/plain": [
       "   id  LONCOL  LATCOL       HBLON      HBLAT  name County City Province  \\\n",
       "0   0       0     281  118.357348  31.931298  星甸街道    浦口区  南京市      江苏省   \n",
       "1   1       0     282  118.357348  31.935794  星甸街道    浦口区  南京市      江苏省   \n",
       "2   2       0     283  118.357348  31.940291  星甸街道    浦口区  南京市      江苏省   \n",
       "3   3       1     281  118.362652  31.931298  星甸街道    浦口区  南京市      江苏省   \n",
       "4   4       1     282  118.362652  31.935794  星甸街道    浦口区  南京市      江苏省   \n",
       "\n",
       "   GridRing  TownRing                                           geometry  \n",
       "0         0         0  POLYGON ((118.36 31.92904945779842, 118.354695...  \n",
       "1         0         0  POLYGON ((118.36 31.93354606300484, 118.354695...  \n",
       "2         0         0  POLYGON ((118.36 31.93804266821126, 118.354695...  \n",
       "3         0         0  POLYGON ((118.3653043927706 31.92904945779842,...  \n",
       "4         0         0  POLYGON ((118.3653043927706 31.93354606300484,...  "
      ]
     },
     "execution_count": 3,
     "metadata": {},
     "output_type": "execute_result"
    }
   ],
   "source": [
    "grid.head()"
   ]
  },
  {
   "cell_type": "code",
   "execution_count": 4,
   "metadata": {},
   "outputs": [
    {
     "data": {
      "text/html": [
       "<div>\n",
       "<style scoped>\n",
       "    .dataframe tbody tr th:only-of-type {\n",
       "        vertical-align: middle;\n",
       "    }\n",
       "\n",
       "    .dataframe tbody tr th {\n",
       "        vertical-align: top;\n",
       "    }\n",
       "\n",
       "    .dataframe thead th {\n",
       "        text-align: right;\n",
       "    }\n",
       "</style>\n",
       "<table border=\"1\" class=\"dataframe\">\n",
       "  <thead>\n",
       "    <tr style=\"text-align: right;\">\n",
       "      <th></th>\n",
       "      <th>name</th>\n",
       "      <th>Province</th>\n",
       "      <th>City</th>\n",
       "      <th>County</th>\n",
       "      <th>label</th>\n",
       "      <th>TownRing</th>\n",
       "      <th>geometry</th>\n",
       "    </tr>\n",
       "  </thead>\n",
       "  <tbody>\n",
       "    <tr>\n",
       "      <th>0</th>\n",
       "      <td>嘉定工业区</td>\n",
       "      <td>上海市</td>\n",
       "      <td>上海市</td>\n",
       "      <td>嘉定区</td>\n",
       "      <td>嘉定工业区|嘉定区</td>\n",
       "      <td>0</td>\n",
       "      <td>POLYGON ((121.2578519644719 31.3711403539198, ...</td>\n",
       "    </tr>\n",
       "    <tr>\n",
       "      <th>1</th>\n",
       "      <td>菊园新区管委会</td>\n",
       "      <td>上海市</td>\n",
       "      <td>上海市</td>\n",
       "      <td>嘉定区</td>\n",
       "      <td>菊园新区管委会|嘉定区</td>\n",
       "      <td>0</td>\n",
       "      <td>POLYGON ((121.2691103726473 31.40221438071714,...</td>\n",
       "    </tr>\n",
       "    <tr>\n",
       "      <th>2</th>\n",
       "      <td>嘉定镇街道</td>\n",
       "      <td>上海市</td>\n",
       "      <td>上海市</td>\n",
       "      <td>嘉定区</td>\n",
       "      <td>嘉定镇街道|嘉定区</td>\n",
       "      <td>0</td>\n",
       "      <td>POLYGON ((121.255658116194 31.39191372165894, ...</td>\n",
       "    </tr>\n",
       "    <tr>\n",
       "      <th>3</th>\n",
       "      <td>新成路街道</td>\n",
       "      <td>上海市</td>\n",
       "      <td>上海市</td>\n",
       "      <td>嘉定区</td>\n",
       "      <td>新成路街道|嘉定区</td>\n",
       "      <td>0</td>\n",
       "      <td>POLYGON ((121.2758621911989 31.40147191184149,...</td>\n",
       "    </tr>\n",
       "    <tr>\n",
       "      <th>4</th>\n",
       "      <td>马陆镇</td>\n",
       "      <td>上海市</td>\n",
       "      <td>上海市</td>\n",
       "      <td>嘉定区</td>\n",
       "      <td>马陆镇|嘉定区</td>\n",
       "      <td>0</td>\n",
       "      <td>POLYGON ((121.3417180535397 31.33828939627281,...</td>\n",
       "    </tr>\n",
       "  </tbody>\n",
       "</table>\n",
       "</div>"
      ],
      "text/plain": [
       "      name Province City County        label  TownRing  \\\n",
       "0    嘉定工业区      上海市  上海市    嘉定区    嘉定工业区|嘉定区         0   \n",
       "1  菊园新区管委会      上海市  上海市    嘉定区  菊园新区管委会|嘉定区         0   \n",
       "2    嘉定镇街道      上海市  上海市    嘉定区    嘉定镇街道|嘉定区         0   \n",
       "3    新成路街道      上海市  上海市    嘉定区    新成路街道|嘉定区         0   \n",
       "4      马陆镇      上海市  上海市    嘉定区      马陆镇|嘉定区         0   \n",
       "\n",
       "                                            geometry  \n",
       "0  POLYGON ((121.2578519644719 31.3711403539198, ...  \n",
       "1  POLYGON ((121.2691103726473 31.40221438071714,...  \n",
       "2  POLYGON ((121.255658116194 31.39191372165894, ...  \n",
       "3  POLYGON ((121.2758621911989 31.40147191184149,...  \n",
       "4  POLYGON ((121.3417180535397 31.33828939627281,...  "
      ]
     },
     "execution_count": 4,
     "metadata": {},
     "output_type": "execute_result"
    }
   ],
   "source": [
    "town.head()"
   ]
  },
  {
   "cell_type": "markdown",
   "metadata": {},
   "source": [
    "### (1) 职住识别"
   ]
  },
  {
   "cell_type": "code",
   "execution_count": 5,
   "metadata": {
    "collapsed": true
   },
   "outputs": [],
   "source": [
    "data = pd.read_csv('./zy_stop_count.csv.gz',compression='gzip')\n",
    "data.columns = ['loncol_500','latcol_500','stopNum','dateNum','tw','th','user_id','rank_id']\n",
    "data.drop('rank_id',axis=1,inplace=True)\n",
    "data = data.reindex(columns=['user_id','loncol_500','latcol_500','stopNum','dateNum','tw','th'])"
   ]
  },
  {
   "cell_type": "code",
   "execution_count": 6,
   "metadata": {},
   "outputs": [
    {
     "data": {
      "text/html": [
       "<div>\n",
       "<style scoped>\n",
       "    .dataframe tbody tr th:only-of-type {\n",
       "        vertical-align: middle;\n",
       "    }\n",
       "\n",
       "    .dataframe tbody tr th {\n",
       "        vertical-align: top;\n",
       "    }\n",
       "\n",
       "    .dataframe thead th {\n",
       "        text-align: right;\n",
       "    }\n",
       "</style>\n",
       "<table border=\"1\" class=\"dataframe\">\n",
       "  <thead>\n",
       "    <tr style=\"text-align: right;\">\n",
       "      <th></th>\n",
       "      <th>user_id</th>\n",
       "      <th>loncol_500</th>\n",
       "      <th>latcol_500</th>\n",
       "      <th>stopNum</th>\n",
       "      <th>dateNum</th>\n",
       "      <th>tw</th>\n",
       "      <th>th</th>\n",
       "    </tr>\n",
       "  </thead>\n",
       "  <tbody>\n",
       "    <tr>\n",
       "      <th>0</th>\n",
       "      <td>1</td>\n",
       "      <td>409</td>\n",
       "      <td>265</td>\n",
       "      <td>4</td>\n",
       "      <td>3</td>\n",
       "      <td>38751</td>\n",
       "      <td>90129</td>\n",
       "    </tr>\n",
       "    <tr>\n",
       "      <th>1</th>\n",
       "      <td>1</td>\n",
       "      <td>413</td>\n",
       "      <td>274</td>\n",
       "      <td>1</td>\n",
       "      <td>1</td>\n",
       "      <td>1919</td>\n",
       "      <td>0</td>\n",
       "    </tr>\n",
       "    <tr>\n",
       "      <th>2</th>\n",
       "      <td>1</td>\n",
       "      <td>411</td>\n",
       "      <td>267</td>\n",
       "      <td>1</td>\n",
       "      <td>1</td>\n",
       "      <td>9376</td>\n",
       "      <td>0</td>\n",
       "    </tr>\n",
       "    <tr>\n",
       "      <th>3</th>\n",
       "      <td>3</td>\n",
       "      <td>82</td>\n",
       "      <td>267</td>\n",
       "      <td>5</td>\n",
       "      <td>3</td>\n",
       "      <td>31097</td>\n",
       "      <td>11982</td>\n",
       "    </tr>\n",
       "    <tr>\n",
       "      <th>4</th>\n",
       "      <td>3</td>\n",
       "      <td>86</td>\n",
       "      <td>281</td>\n",
       "      <td>2</td>\n",
       "      <td>1</td>\n",
       "      <td>8267</td>\n",
       "      <td>0</td>\n",
       "    </tr>\n",
       "  </tbody>\n",
       "</table>\n",
       "</div>"
      ],
      "text/plain": [
       "   user_id  loncol_500  latcol_500  stopNum  dateNum     tw     th\n",
       "0        1         409         265        4        3  38751  90129\n",
       "1        1         413         274        1        1   1919      0\n",
       "2        1         411         267        1        1   9376      0\n",
       "3        3          82         267        5        3  31097  11982\n",
       "4        3          86         281        2        1   8267      0"
      ]
     },
     "execution_count": 6,
     "metadata": {},
     "output_type": "execute_result"
    }
   ],
   "source": [
    "data.head()"
   ]
  },
  {
   "cell_type": "code",
   "execution_count": null,
   "metadata": {},
   "outputs": [
    {
     "data": {
      "text/plain": [
       "(array([0.  , 0.02, 0.04, 0.06, 0.08, 0.1 , 0.12, 0.14, 0.16]),\n",
       " <a list of 9 Text yticklabel objects>)"
      ]
     },
     "execution_count": 4,
     "metadata": {},
     "output_type": "execute_result"
    },
    {
     "data": {
      "image/png": "[encoded data removed]",
      "text/plain": [
       "<matplotlib.figure.Figure at 0xb7f4978>"
      ]
     },
     "metadata": {},
     "output_type": "display_data"
    }
   ],
   "source": [
    "# 简单的频率分布分析\n",
    "import matplotlib as mpl\n",
    "def plot_hist(series, num_bins, color_bins, color_line, alpha=1, label='', linestyle='dashed', marker='o', markerfacecolor='r', markersize=2): \n",
    "    # 将hist设置为函数\n",
    "    # num_bins = 30\n",
    "    mu, sigma = series.agg(['mean','std'])\n",
    "    n, bins, patchs = plt.hist(series, num_bins, normed=1, color=color_bins, alpha=alpha,label=label)\n",
    "    y = mpl.mlab.normpdf(bins,mu,sigma)\n",
    "    plt.plot(bins,y,color=color_line, linestyle=linestyle, marker=marker, markerfacecolor=markerfacecolor, markersize=markersize)\n",
    "\n",
    "    \n",
    "def rgb(R,G,B): return \"#%02X%02X%02X\" % (R,G,B)\n",
    "fig, ax = plt.subplots(figsize=(15,5))\n",
    "plt.subplot(1,2,1)\n",
    "# data.iloc[:10000,:].groupby('user_id').stopNum.max().hist(bins=30)\n",
    "plot_hist(data.groupby('user_id').dateNum.max(),num_bins=22,color_bins=rgb(252,216,103),color_line=rgb(123,99,0))\n",
    "plt.title('最大停驻天数频率分布',fontsize=18)\n",
    "plt.xlabel('停驻天数',fontsize=16)\n",
    "plt.ylabel('用户比例',fontsize=16)\n",
    "plt.xticks(fontsize=14)\n",
    "plt.yticks(fontsize=14)\n",
    "\n",
    "plt.subplot(1,2,2)\n",
    "# data.iloc[:10000,:].groupby('user_id').dateNum.max().hist(bins=30)\n",
    "plot_hist(data.groupby('user_id').stopNum.max(),num_bins=50,color_bins=rgb(252,216,103),color_line=rgb(123,99,0))\n",
    "plt.title('最大停驻次数频率分布',fontsize=18)\n",
    "plt.xlabel('停驻次数',fontsize=16)\n",
    "plt.ylabel('用户比例',fontsize=16)\n",
    "plt.xticks(fontsize=14)\n",
    "plt.yticks(fontsize=14)\n",
    "\n",
    "# plt.savefig('C:\\\\Users\\Administrator\\Desktop\\c1.png',bbox_inches='tight',pad_inches=0,dpi=600)"
   ]
  },
  {
   "cell_type": "markdown",
   "metadata": {},
   "source": [
    "#### 考虑同地规则：若工作与居住相同，则取下一个"
   ]
  },
  {
   "cell_type": "code",
   "execution_count": null,
   "metadata": {
    "collapsed": true
   },
   "outputs": [],
   "source": [
    "# date_max = data.groupby('user_id').dateNum.max()\n",
    "# userFilter = date_max[date_max >= 10].index.tolist()  # 筛选满足停驻天数条件的用户数据\n",
    "# dataFilter = data[data.user_id.isin(userFilter)]\n",
    "\n",
    "# 识别居住与工作位置栅格,为简化计算，采用记录id的方式\n",
    "t0 = datetime.datetime.now()\n",
    "homeID = list()\n",
    "workID = list()\n",
    "for user,udata in data.groupby('user_id'):\n",
    "#     print(user)\n",
    "    hdata = udata[udata.th == udata.th.max()]   # 最有可能在家的停驻\n",
    "    homeID.append([user, hdata.index.values[0]])# 居住\n",
    "    wdata = udata[udata.tw == udata.tw.max()]   # 最有可能工作的停驻\n",
    "    if len(udata)>1 and wdata[['loncol_500','latcol_500']].values.tolist() == hdata[['loncol_500','latcol_500']].values.tolist():\n",
    "        wdata = udata[udata.tw == udata.tw.nlargest(2).iloc[1]]   # 第二大的停驻天数  函数df.nlargest()\n",
    "        workID.append([user, wdata.index.values[0]])\n",
    "    elif len(udata)>1 and wdata[['loncol_500','latcol_500']].values.tolist() != hdata[['loncol_500','latcol_500']].values.tolist():\n",
    "        workID.append([user, wdata.index.values[0]])  # 1.只有一行，2.工作与家不一样\n",
    "    else:\n",
    "        workID.append([user,''])\n",
    "print((datetime.datetime.now()-t0).seconds / 60)"
   ]
  },
  {
   "cell_type": "code",
   "execution_count": null,
   "metadata": {
    "collapsed": true
   },
   "outputs": [],
   "source": [
    "# pd.DataFrame(homeID).to_csv('/home_id.csv',index=False)\n",
    "# pd.DataFrame(workID).to_csv('/work_id.csv',index=False)\n",
    "# pd.DataFrame(homeID).to_csv('C:\\\\Users\\\\Administrator\\\\Desktop\\\\home_id.csv',index=False)`\n",
    "# pd.DataFrame(workID).to_csv('C:\\\\Users\\\\Administrator\\\\Desktop\\\\work_id.csv',index=False)\n",
    "\n",
    "# 将index转化为数据\n",
    "homeID = pd.read_csv('./home_id.csv')\n",
    "homeID.columns=['user_id','home_id']\n",
    "home_data = data.loc[homeID.home_id.values]\n",
    "\n",
    "workID = pd.read_csv('./work_id.csv')\n",
    "workID.columns=['user_id','work_id']\n",
    "workID.dropna(inplace=True)\n",
    "work_data = data.loc[workID.work_id.values]"
   ]
  },
  {
   "cell_type": "markdown",
   "metadata": {},
   "source": [
    "#### 不考虑同地规则"
   ]
  },
  {
   "cell_type": "code",
   "execution_count": 7,
   "metadata": {
    "collapsed": true
   },
   "outputs": [],
   "source": [
    "home_data = data[data.groupby('user_id').th.transform(max) == data.th]\n",
    "work_data = data[data.groupby('user_id').tw.transform(max) == data.tw]"
   ]
  },
  {
   "cell_type": "markdown",
   "metadata": {},
   "source": [
    "#### 居住工作识别结果处理"
   ]
  },
  {
   "cell_type": "code",
   "execution_count": 8,
   "metadata": {
    "collapsed": true
   },
   "outputs": [],
   "source": [
    "home_data = home_data[home_data.dateNum >= 10]\n",
    "work_data = work_data[work_data.dateNum >= 10]"
   ]
  },
  {
   "cell_type": "code",
   "execution_count": 9,
   "metadata": {
    "collapsed": true
   },
   "outputs": [],
   "source": [
    "hw = pd.merge(home_data,work_data,how='outer',on='user_id',suffixes=('_h','_w'))"
   ]
  },
  {
   "cell_type": "code",
   "execution_count": 232,
   "metadata": {},
   "outputs": [
    {
     "data": {
      "text/html": [
       "<div>\n",
       "<style scoped>\n",
       "    .dataframe tbody tr th:only-of-type {\n",
       "        vertical-align: middle;\n",
       "    }\n",
       "\n",
       "    .dataframe tbody tr th {\n",
       "        vertical-align: top;\n",
       "    }\n",
       "\n",
       "    .dataframe thead th {\n",
       "        text-align: right;\n",
       "    }\n",
       "</style>\n",
       "<table border=\"1\" class=\"dataframe\">\n",
       "  <thead>\n",
       "    <tr style=\"text-align: right;\">\n",
       "      <th></th>\n",
       "      <th>user_id</th>\n",
       "      <th>loncol_500_h</th>\n",
       "      <th>latcol_500_h</th>\n",
       "      <th>stopNum_h</th>\n",
       "      <th>dateNum_h</th>\n",
       "      <th>tw_h</th>\n",
       "      <th>th_h</th>\n",
       "      <th>loncol_500_w</th>\n",
       "      <th>latcol_500_w</th>\n",
       "      <th>stopNum_w</th>\n",
       "      <th>dateNum_w</th>\n",
       "      <th>tw_w</th>\n",
       "      <th>th_w</th>\n",
       "    </tr>\n",
       "  </thead>\n",
       "  <tbody>\n",
       "    <tr>\n",
       "      <th>0</th>\n",
       "      <td>9</td>\n",
       "      <td>550.0</td>\n",
       "      <td>150.0</td>\n",
       "      <td>21.0</td>\n",
       "      <td>14.0</td>\n",
       "      <td>2066.0</td>\n",
       "      <td>389978.0</td>\n",
       "      <td>NaN</td>\n",
       "      <td>NaN</td>\n",
       "      <td>NaN</td>\n",
       "      <td>NaN</td>\n",
       "      <td>NaN</td>\n",
       "      <td>NaN</td>\n",
       "    </tr>\n",
       "    <tr>\n",
       "      <th>1</th>\n",
       "      <td>16</td>\n",
       "      <td>571.0</td>\n",
       "      <td>116.0</td>\n",
       "      <td>23.0</td>\n",
       "      <td>13.0</td>\n",
       "      <td>189777.0</td>\n",
       "      <td>444145.0</td>\n",
       "      <td>571.0</td>\n",
       "      <td>116.0</td>\n",
       "      <td>23.0</td>\n",
       "      <td>13.0</td>\n",
       "      <td>189777.0</td>\n",
       "      <td>444145.0</td>\n",
       "    </tr>\n",
       "    <tr>\n",
       "      <th>2</th>\n",
       "      <td>31</td>\n",
       "      <td>562.0</td>\n",
       "      <td>160.0</td>\n",
       "      <td>26.0</td>\n",
       "      <td>19.0</td>\n",
       "      <td>3004.0</td>\n",
       "      <td>432008.0</td>\n",
       "      <td>572.0</td>\n",
       "      <td>120.0</td>\n",
       "      <td>13.0</td>\n",
       "      <td>11.0</td>\n",
       "      <td>130919.0</td>\n",
       "      <td>34530.0</td>\n",
       "    </tr>\n",
       "    <tr>\n",
       "      <th>3</th>\n",
       "      <td>34</td>\n",
       "      <td>591.0</td>\n",
       "      <td>146.0</td>\n",
       "      <td>38.0</td>\n",
       "      <td>20.0</td>\n",
       "      <td>0.0</td>\n",
       "      <td>746446.0</td>\n",
       "      <td>578.0</td>\n",
       "      <td>111.0</td>\n",
       "      <td>21.0</td>\n",
       "      <td>19.0</td>\n",
       "      <td>444386.0</td>\n",
       "      <td>23663.0</td>\n",
       "    </tr>\n",
       "    <tr>\n",
       "      <th>4</th>\n",
       "      <td>38</td>\n",
       "      <td>86.0</td>\n",
       "      <td>280.0</td>\n",
       "      <td>11.0</td>\n",
       "      <td>11.0</td>\n",
       "      <td>102081.0</td>\n",
       "      <td>52917.0</td>\n",
       "      <td>86.0</td>\n",
       "      <td>280.0</td>\n",
       "      <td>11.0</td>\n",
       "      <td>11.0</td>\n",
       "      <td>102081.0</td>\n",
       "      <td>52917.0</td>\n",
       "    </tr>\n",
       "  </tbody>\n",
       "</table>\n",
       "</div>"
      ],
      "text/plain": [
       "   user_id  loncol_500_h  latcol_500_h  stopNum_h  dateNum_h      tw_h  \\\n",
       "0        9         550.0         150.0       21.0       14.0    2066.0   \n",
       "1       16         571.0         116.0       23.0       13.0  189777.0   \n",
       "2       31         562.0         160.0       26.0       19.0    3004.0   \n",
       "3       34         591.0         146.0       38.0       20.0       0.0   \n",
       "4       38          86.0         280.0       11.0       11.0  102081.0   \n",
       "\n",
       "       th_h  loncol_500_w  latcol_500_w  stopNum_w  dateNum_w      tw_w  \\\n",
       "0  389978.0           NaN           NaN        NaN        NaN       NaN   \n",
       "1  444145.0         571.0         116.0       23.0       13.0  189777.0   \n",
       "2  432008.0         572.0         120.0       13.0       11.0  130919.0   \n",
       "3  746446.0         578.0         111.0       21.0       19.0  444386.0   \n",
       "4   52917.0          86.0         280.0       11.0       11.0  102081.0   \n",
       "\n",
       "       th_w  \n",
       "0       NaN  \n",
       "1  444145.0  \n",
       "2   34530.0  \n",
       "3   23663.0  \n",
       "4   52917.0  "
      ]
     },
     "execution_count": 232,
     "metadata": {},
     "output_type": "execute_result"
    }
   ],
   "source": [
    "hw.head()"
   ]
  },
  {
   "cell_type": "code",
   "execution_count": 10,
   "metadata": {
    "collapsed": true
   },
   "outputs": [],
   "source": [
    "hw1 = hw[(~hw.th_h.isnull()) & (~hw.tw_w.isnull())]   # 成功识别居住与工作\n",
    "hw2 = hw[(~hw.th_h.isnull()) & (hw.tw_w.isnull())]    # 成功识别居住，无法识别工作\n",
    "hw3 = hw[(hw.th_h.isnull()) & (~hw.tw_w.isnull())]    # 成功识别工作，无法识别居住   \n",
    "hw4 = data[data.user_id.isin(set(data.user_id.unique()) - set(hw.user_id.unique()))]  # 无法识别居住和工作"
   ]
  },
  {
   "cell_type": "code",
   "execution_count": 11,
   "metadata": {},
   "outputs": [
    {
     "name": "stdout",
     "output_type": "stream",
     "text": [
      "23726274 7330357 6479944 596422 253991 16395917\n"
     ]
    }
   ],
   "source": [
    "# 总体情况\n",
    "print(data.user_id.nunique(), hw.user_id.nunique(), hw1.user_id.nunique(), hw2.user_id.nunique(), hw3.user_id.nunique(), hw4.user_id.nunique())\n",
    "# 7330357 6479944 596422 253991"
   ]
  },
  {
   "cell_type": "code",
   "execution_count": 234,
   "metadata": {
    "collapsed": true
   },
   "outputs": [],
   "source": [
    "# 从第一类用户中筛选有用信息\n",
    "hw_total = hw[['user_id','loncol_500_h','latcol_500_h','loncol_500_w','latcol_500_w']].reset_index(drop=True)"
   ]
  },
  {
   "cell_type": "code",
   "execution_count": 235,
   "metadata": {
    "collapsed": true
   },
   "outputs": [],
   "source": [
    "# 栅格转乡镇: 注意有些栅格对应对个乡镇，导致新表比旧表多\n",
    "hw_totalTown_temp = hw_total.merge(grid[['LONCOL','LATCOL','name','County','City','Province','GridRing','TownRing']],how='left',\\\n",
    "                               left_on=['loncol_500_h','latcol_500_h'],right_on=['LONCOL','LATCOL'])\n",
    "hw_totalTown_temp2 = hw_totalTown_temp.merge(grid[['LONCOL','LATCOL','name','County','City','Province','GridRing','TownRing']],how='left',\\\n",
    "                               left_on=['loncol_500_w','latcol_500_w'],right_on=['LONCOL','LATCOL'],suffixes=('_h', '_w'))"
   ]
  },
  {
   "cell_type": "code",
   "execution_count": 236,
   "metadata": {
    "collapsed": true
   },
   "outputs": [],
   "source": [
    "hw_total_town = hw_totalTown_temp2[['user_id','loncol_500_h','latcol_500_h','name_h','County_h','City_h','Province_h','GridRing_h','TownRing_h',\\\n",
    "                                    'loncol_500_w','latcol_500_w','name_w','County_w','City_w','Province_w','GridRing_w','TownRing_w']]"
   ]
  },
  {
   "cell_type": "code",
   "execution_count": 237,
   "metadata": {},
   "outputs": [
    {
     "data": {
      "text/html": [
       "<div>\n",
       "<style scoped>\n",
       "    .dataframe tbody tr th:only-of-type {\n",
       "        vertical-align: middle;\n",
       "    }\n",
       "\n",
       "    .dataframe tbody tr th {\n",
       "        vertical-align: top;\n",
       "    }\n",
       "\n",
       "    .dataframe thead th {\n",
       "        text-align: right;\n",
       "    }\n",
       "</style>\n",
       "<table border=\"1\" class=\"dataframe\">\n",
       "  <thead>\n",
       "    <tr style=\"text-align: right;\">\n",
       "      <th></th>\n",
       "      <th>user_id</th>\n",
       "      <th>loncol_500_h</th>\n",
       "      <th>latcol_500_h</th>\n",
       "      <th>name_h</th>\n",
       "      <th>County_h</th>\n",
       "      <th>City_h</th>\n",
       "      <th>Province_h</th>\n",
       "      <th>GridRing_h</th>\n",
       "      <th>TownRing_h</th>\n",
       "      <th>loncol_500_w</th>\n",
       "      <th>latcol_500_w</th>\n",
       "      <th>name_w</th>\n",
       "      <th>County_w</th>\n",
       "      <th>City_w</th>\n",
       "      <th>Province_w</th>\n",
       "      <th>GridRing_w</th>\n",
       "      <th>TownRing_w</th>\n",
       "    </tr>\n",
       "  </thead>\n",
       "  <tbody>\n",
       "    <tr>\n",
       "      <th>0</th>\n",
       "      <td>9</td>\n",
       "      <td>550.0</td>\n",
       "      <td>150.0</td>\n",
       "      <td>马陆镇</td>\n",
       "      <td>嘉定区</td>\n",
       "      <td>上海市</td>\n",
       "      <td>上海市</td>\n",
       "      <td>0.0</td>\n",
       "      <td>0.0</td>\n",
       "      <td>NaN</td>\n",
       "      <td>NaN</td>\n",
       "      <td>NaN</td>\n",
       "      <td>NaN</td>\n",
       "      <td>NaN</td>\n",
       "      <td>NaN</td>\n",
       "      <td>NaN</td>\n",
       "      <td>NaN</td>\n",
       "    </tr>\n",
       "    <tr>\n",
       "      <th>1</th>\n",
       "      <td>16</td>\n",
       "      <td>571.0</td>\n",
       "      <td>116.0</td>\n",
       "      <td>虹桥镇</td>\n",
       "      <td>闵行区</td>\n",
       "      <td>上海市</td>\n",
       "      <td>上海市</td>\n",
       "      <td>1.0</td>\n",
       "      <td>1.0</td>\n",
       "      <td>571.0</td>\n",
       "      <td>116.0</td>\n",
       "      <td>虹桥镇</td>\n",
       "      <td>闵行区</td>\n",
       "      <td>上海市</td>\n",
       "      <td>上海市</td>\n",
       "      <td>1.0</td>\n",
       "      <td>1.0</td>\n",
       "    </tr>\n",
       "    <tr>\n",
       "      <th>2</th>\n",
       "      <td>31</td>\n",
       "      <td>562.0</td>\n",
       "      <td>160.0</td>\n",
       "      <td>罗店镇</td>\n",
       "      <td>宝山区</td>\n",
       "      <td>上海市</td>\n",
       "      <td>上海市</td>\n",
       "      <td>0.0</td>\n",
       "      <td>0.0</td>\n",
       "      <td>572.0</td>\n",
       "      <td>120.0</td>\n",
       "      <td>仙霞新村街道</td>\n",
       "      <td>长宁区</td>\n",
       "      <td>上海市</td>\n",
       "      <td>上海市</td>\n",
       "      <td>1.0</td>\n",
       "      <td>1.0</td>\n",
       "    </tr>\n",
       "    <tr>\n",
       "      <th>3</th>\n",
       "      <td>34</td>\n",
       "      <td>591.0</td>\n",
       "      <td>146.0</td>\n",
       "      <td>新江湾城街道</td>\n",
       "      <td>杨浦区</td>\n",
       "      <td>上海市</td>\n",
       "      <td>上海市</td>\n",
       "      <td>1.0</td>\n",
       "      <td>1.0</td>\n",
       "      <td>578.0</td>\n",
       "      <td>111.0</td>\n",
       "      <td>漕河泾街道</td>\n",
       "      <td>徐汇区</td>\n",
       "      <td>上海市</td>\n",
       "      <td>上海市</td>\n",
       "      <td>1.0</td>\n",
       "      <td>1.0</td>\n",
       "    </tr>\n",
       "    <tr>\n",
       "      <th>4</th>\n",
       "      <td>38</td>\n",
       "      <td>86.0</td>\n",
       "      <td>280.0</td>\n",
       "      <td>秣陵街道</td>\n",
       "      <td>江宁区</td>\n",
       "      <td>南京市</td>\n",
       "      <td>江苏省</td>\n",
       "      <td>0.0</td>\n",
       "      <td>0.0</td>\n",
       "      <td>86.0</td>\n",
       "      <td>280.0</td>\n",
       "      <td>秣陵街道</td>\n",
       "      <td>江宁区</td>\n",
       "      <td>南京市</td>\n",
       "      <td>江苏省</td>\n",
       "      <td>0.0</td>\n",
       "      <td>0.0</td>\n",
       "    </tr>\n",
       "  </tbody>\n",
       "</table>\n",
       "</div>"
      ],
      "text/plain": [
       "   user_id  loncol_500_h  latcol_500_h  name_h County_h City_h Province_h  \\\n",
       "0        9         550.0         150.0     马陆镇      嘉定区    上海市        上海市   \n",
       "1       16         571.0         116.0     虹桥镇      闵行区    上海市        上海市   \n",
       "2       31         562.0         160.0     罗店镇      宝山区    上海市        上海市   \n",
       "3       34         591.0         146.0  新江湾城街道      杨浦区    上海市        上海市   \n",
       "4       38          86.0         280.0    秣陵街道      江宁区    南京市        江苏省   \n",
       "\n",
       "   GridRing_h  TownRing_h  loncol_500_w  latcol_500_w  name_w County_w City_w  \\\n",
       "0         0.0         0.0           NaN           NaN     NaN      NaN    NaN   \n",
       "1         1.0         1.0         571.0         116.0     虹桥镇      闵行区    上海市   \n",
       "2         0.0         0.0         572.0         120.0  仙霞新村街道      长宁区    上海市   \n",
       "3         1.0         1.0         578.0         111.0   漕河泾街道      徐汇区    上海市   \n",
       "4         0.0         0.0          86.0         280.0    秣陵街道      江宁区    南京市   \n",
       "\n",
       "  Province_w  GridRing_w  TownRing_w  \n",
       "0        NaN         NaN         NaN  \n",
       "1        上海市         1.0         1.0  \n",
       "2        上海市         1.0         1.0  \n",
       "3        上海市         1.0         1.0  \n",
       "4        江苏省         0.0         0.0  "
      ]
     },
     "execution_count": 237,
     "metadata": {},
     "output_type": "execute_result"
    }
   ],
   "source": [
    "hw_total_town.head()"
   ]
  },
  {
   "cell_type": "code",
   "execution_count": 243,
   "metadata": {},
   "outputs": [
    {
     "data": {
      "text/plain": [
       "3145309"
      ]
     },
     "execution_count": 243,
     "metadata": {},
     "output_type": "execute_result"
    }
   ],
   "source": [
    "hw_total_town[hw_total_town.City_h == '上海市'].user_id.nunique()"
   ]
  },
  {
   "cell_type": "code",
   "execution_count": 242,
   "metadata": {},
   "outputs": [
    {
     "data": {
      "text/plain": [
       "2834328"
      ]
     },
     "execution_count": 242,
     "metadata": {},
     "output_type": "execute_result"
    }
   ],
   "source": [
    "hw_total_town[(hw_total_town.City_h == '上海市') & (~hw_total_town.City_w.isnull())].user_id.nunique()"
   ]
  },
  {
   "cell_type": "markdown",
   "metadata": {},
   "source": [
    "#### 居住与工作位置统计结果导入---栅格层面"
   ]
  },
  {
   "cell_type": "code",
   "execution_count": 37,
   "metadata": {
    "collapsed": true
   },
   "outputs": [],
   "source": [
    "hw1_hcnt = hw1.groupby(['loncol_500_h','latcol_500_h']).user_id.count().reset_index()\n",
    "hw1_hcnt.rename(columns={'user_id':'cnt'},inplace=True)\n",
    "hw1_hcnt_grid = grid.merge(hw1_hcnt,left_on=['LONCOL','LATCOL'],right_on=['loncol_500_h','latcol_500_h'],how='left')\n",
    "hw1_hcnt_grid.cnt.fillna(0,inplace=True)\n",
    "hw1_hcnt_grid.cnt = hw1_hcnt_grid.cnt.astype(int)\n",
    "hw1_hcnt_grid.to_file('../190519导出职住数据-new/ArcGIS图/hw1_homecnt.shp',encoding='gb2312')\n",
    "\n",
    "hw1_wcnt = hw1.groupby(['loncol_500_w','latcol_500_w']).user_id.count().reset_index()\n",
    "hw1_wcnt.rename(columns={'user_id':'cnt'},inplace=True)\n",
    "hw1_wcnt_grid = grid.merge(hw1_wcnt,left_on=['LONCOL','LATCOL'],right_on=['loncol_500_w','latcol_500_w'],how='left')\n",
    "hw1_wcnt_grid.cnt.fillna(0,inplace=True)\n",
    "hw1_wcnt_grid.cnt = hw1_wcnt_grid.cnt.astype(int)\n",
    "hw1_wcnt_grid.to_file('../190519导出职住数据-new/ArcGIS图/hw1_workcnt.shp',encoding='gb2312')"
   ]
  },
  {
   "cell_type": "code",
   "execution_count": 38,
   "metadata": {
    "collapsed": true
   },
   "outputs": [],
   "source": [
    "hw2_cnt = hw2.groupby(['loncol_500_h','latcol_500_h']).user_id.count().reset_index()\n",
    "hw2_cnt.rename(columns={'user_id':'cnt'},inplace=True)\n",
    "hw2_cnt_grid = grid.merge(hw2_cnt,left_on=['LONCOL','LATCOL'],right_on=['loncol_500_h','latcol_500_h'],how='left')\n",
    "hw2_cnt_grid.cnt.fillna(0,inplace=True)\n",
    "hw2_cnt_grid.cnt = hw2_cnt_grid.cnt.astype(int)\n",
    "hw2_cnt_grid.to_file('../190519导出职住数据-new/ArcGIS图/hw2_homecnt.shp',encoding='gb2312')\n",
    "\n",
    "hw3_cnt = hw3.groupby(['loncol_500_w','latcol_500_w']).user_id.count().reset_index()\n",
    "hw3_cnt.rename(columns={'user_id':'cnt'},inplace=True)\n",
    "hw3_cnt_grid = grid.merge(hw3_cnt,left_on=['LONCOL','LATCOL'],right_on=['loncol_500_w','latcol_500_w'],how='left')\n",
    "hw3_cnt_grid.cnt.fillna(0,inplace=True)\n",
    "hw3_cnt_grid.cnt = hw3_cnt_grid.cnt.astype(int)\n",
    "hw3_cnt_grid.to_file('../190519导出职住数据-new/ArcGIS图/hw3_workcnt.shp',encoding='gb2312')"
   ]
  },
  {
   "cell_type": "markdown",
   "metadata": {},
   "source": [
    "#### 居住与工作位置统计结果导入---乡镇层面"
   ]
  },
  {
   "cell_type": "code",
   "execution_count": null,
   "metadata": {
    "collapsed": true
   },
   "outputs": [],
   "source": [
    "hw1_hcnt_town = hw1_hcnt_grid.groupby(['County','name']).cnt.sum().reset_index()\n",
    "hw1_wcnt_town = hw1_wcnt_grid.groupby(['County','name']).cnt.sum().reset_index()\n",
    "hw1_hcnt_townshp = town.merge(hw1_hcnt_town, on=['County','name'],how='inner')\n",
    "hw1_wcnt_townshp = town.merge(hw1_wcnt_town, on=['County','name'],how='inner')"
   ]
  },
  {
   "cell_type": "code",
   "execution_count": null,
   "metadata": {
    "collapsed": true
   },
   "outputs": [],
   "source": [
    "hw2_cnt_town = hw2_cnt_grid.groupby(['County','name']).cnt.sum().reset_index()\n",
    "hw2_cnt_townshp = town.merge(hw2_cnt_town, on=['County','name'],how='inner')\n",
    "hw3_cnt_town = hw3_cnt_grid.groupby(['County','name']).cnt.sum().reset_index()\n",
    "hw3_cnt_townshp = town.merge(hw3_cnt_town, on=['County','name'],how='inner')"
   ]
  },
  {
   "cell_type": "code",
   "execution_count": null,
   "metadata": {
    "collapsed": true
   },
   "outputs": [],
   "source": [
    "hw1_hcnt_townshp.to_file('../190519导出职住数据-new/ArcGIS图/hw1_homecnt_town.shp',encoding='gb2312')\n",
    "hw1_wcnt_townshp.to_file('../190519导出职住数据-new/ArcGIS图/hw1_workcnt_town.shp',encoding='gb2312')\n",
    "hw2_cnt_townshp.to_file('../190519导出职住数据-new/ArcGIS图/hw2_homecnt_town.shp',encoding='gb2312')\n",
    "hw3_cnt_townshp.to_file('../190519导出职住数据-new/ArcGIS图/hw3_workcnt_town.shp',encoding='gb2312')"
   ]
  },
  {
   "cell_type": "markdown",
   "metadata": {},
   "source": [
    "### (2) 对hw1进行人口分析"
   ]
  },
  {
   "cell_type": "code",
   "execution_count": 13,
   "metadata": {
    "collapsed": true
   },
   "outputs": [],
   "source": [
    "# 从第一类用户中筛选有用信息\n",
    "hwBaseGrid = hw1[['user_id','loncol_500_h','latcol_500_h','loncol_500_w','latcol_500_w']].reset_index(drop=True)"
   ]
  },
  {
   "cell_type": "code",
   "execution_count": 14,
   "metadata": {
    "collapsed": true
   },
   "outputs": [],
   "source": [
    "# 栅格转乡镇: 注意有些栅格对应对个乡镇，导致新表比旧表多\n",
    "hwBaseTownH = hwBaseGrid.merge(grid[['LONCOL','LATCOL','name','County','City','Province','GridRing','TownRing']],how='left',\\\n",
    "                               left_on=['loncol_500_h','latcol_500_h'],right_on=['LONCOL','LATCOL'])\n",
    "hwBaseTownW = hwBaseTownH.merge(grid[['LONCOL','LATCOL','name','County','City','Province','GridRing','TownRing']],how='left',\\\n",
    "                               left_on=['loncol_500_w','latcol_500_w'],right_on=['LONCOL','LATCOL'],suffixes=('_h', '_w'))"
   ]
  },
  {
   "cell_type": "code",
   "execution_count": 15,
   "metadata": {
    "collapsed": true,
    "scrolled": true
   },
   "outputs": [],
   "source": [
    "hwBaseTown = hwBaseTownW[['user_id','loncol_500_h','latcol_500_h','name_h','County_h','City_h','Province_h','GridRing_h','TownRing_h',\\\n",
    "                                    'loncol_500_w','latcol_500_w','name_w','County_w','City_w','Province_w','GridRing_w','TownRing_w']]"
   ]
  },
  {
   "cell_type": "code",
   "execution_count": 20,
   "metadata": {},
   "outputs": [
    {
     "name": "stdout",
     "output_type": "stream",
     "text": [
      "799\n"
     ]
    },
    {
     "data": {
      "text/html": [
       "<div>\n",
       "<style scoped>\n",
       "    .dataframe tbody tr th:only-of-type {\n",
       "        vertical-align: middle;\n",
       "    }\n",
       "\n",
       "    .dataframe tbody tr th {\n",
       "        vertical-align: top;\n",
       "    }\n",
       "\n",
       "    .dataframe thead th {\n",
       "        text-align: right;\n",
       "    }\n",
       "</style>\n",
       "<table border=\"1\" class=\"dataframe\">\n",
       "  <thead>\n",
       "    <tr style=\"text-align: right;\">\n",
       "      <th></th>\n",
       "      <th>user_id</th>\n",
       "      <th>loncol_500_h</th>\n",
       "      <th>latcol_500_h</th>\n",
       "      <th>name_h</th>\n",
       "      <th>County_h</th>\n",
       "      <th>City_h</th>\n",
       "      <th>Province_h</th>\n",
       "      <th>GridRing_h</th>\n",
       "      <th>TownRing_h</th>\n",
       "      <th>loncol_500_w</th>\n",
       "      <th>latcol_500_w</th>\n",
       "      <th>name_w</th>\n",
       "      <th>County_w</th>\n",
       "      <th>City_w</th>\n",
       "      <th>Province_w</th>\n",
       "      <th>GridRing_w</th>\n",
       "      <th>TownRing_w</th>\n",
       "    </tr>\n",
       "  </thead>\n",
       "  <tbody>\n",
       "    <tr>\n",
       "      <th>11647</th>\n",
       "      <td>55124</td>\n",
       "      <td>387.0</td>\n",
       "      <td>51.0</td>\n",
       "      <td>NaN</td>\n",
       "      <td>NaN</td>\n",
       "      <td>NaN</td>\n",
       "      <td>NaN</td>\n",
       "      <td>NaN</td>\n",
       "      <td>NaN</td>\n",
       "      <td>387.0</td>\n",
       "      <td>51.0</td>\n",
       "      <td>NaN</td>\n",
       "      <td>NaN</td>\n",
       "      <td>NaN</td>\n",
       "      <td>NaN</td>\n",
       "      <td>NaN</td>\n",
       "      <td>NaN</td>\n",
       "    </tr>\n",
       "    <tr>\n",
       "      <th>13918</th>\n",
       "      <td>65889</td>\n",
       "      <td>384.0</td>\n",
       "      <td>49.0</td>\n",
       "      <td>NaN</td>\n",
       "      <td>NaN</td>\n",
       "      <td>NaN</td>\n",
       "      <td>NaN</td>\n",
       "      <td>NaN</td>\n",
       "      <td>NaN</td>\n",
       "      <td>384.0</td>\n",
       "      <td>49.0</td>\n",
       "      <td>NaN</td>\n",
       "      <td>NaN</td>\n",
       "      <td>NaN</td>\n",
       "      <td>NaN</td>\n",
       "      <td>NaN</td>\n",
       "      <td>NaN</td>\n",
       "    </tr>\n",
       "    <tr>\n",
       "      <th>34411</th>\n",
       "      <td>163890</td>\n",
       "      <td>366.0</td>\n",
       "      <td>506.0</td>\n",
       "      <td>NaN</td>\n",
       "      <td>NaN</td>\n",
       "      <td>NaN</td>\n",
       "      <td>NaN</td>\n",
       "      <td>NaN</td>\n",
       "      <td>NaN</td>\n",
       "      <td>366.0</td>\n",
       "      <td>506.0</td>\n",
       "      <td>NaN</td>\n",
       "      <td>NaN</td>\n",
       "      <td>NaN</td>\n",
       "      <td>NaN</td>\n",
       "      <td>NaN</td>\n",
       "      <td>NaN</td>\n",
       "    </tr>\n",
       "    <tr>\n",
       "      <th>39799</th>\n",
       "      <td>189749</td>\n",
       "      <td>441.0</td>\n",
       "      <td>66.0</td>\n",
       "      <td>NaN</td>\n",
       "      <td>NaN</td>\n",
       "      <td>NaN</td>\n",
       "      <td>NaN</td>\n",
       "      <td>NaN</td>\n",
       "      <td>NaN</td>\n",
       "      <td>444.0</td>\n",
       "      <td>73.0</td>\n",
       "      <td>汾湖镇</td>\n",
       "      <td>吴江区</td>\n",
       "      <td>苏州市</td>\n",
       "      <td>江苏省</td>\n",
       "      <td>0.0</td>\n",
       "      <td>0.0</td>\n",
       "    </tr>\n",
       "    <tr>\n",
       "      <th>40398</th>\n",
       "      <td>192552</td>\n",
       "      <td>442.0</td>\n",
       "      <td>48.0</td>\n",
       "      <td>NaN</td>\n",
       "      <td>NaN</td>\n",
       "      <td>NaN</td>\n",
       "      <td>NaN</td>\n",
       "      <td>NaN</td>\n",
       "      <td>NaN</td>\n",
       "      <td>442.0</td>\n",
       "      <td>48.0</td>\n",
       "      <td>NaN</td>\n",
       "      <td>NaN</td>\n",
       "      <td>NaN</td>\n",
       "      <td>NaN</td>\n",
       "      <td>NaN</td>\n",
       "      <td>NaN</td>\n",
       "    </tr>\n",
       "  </tbody>\n",
       "</table>\n",
       "</div>"
      ],
      "text/plain": [
       "       user_id  loncol_500_h  latcol_500_h name_h County_h City_h Province_h  \\\n",
       "11647    55124         387.0          51.0    NaN      NaN    NaN        NaN   \n",
       "13918    65889         384.0          49.0    NaN      NaN    NaN        NaN   \n",
       "34411   163890         366.0         506.0    NaN      NaN    NaN        NaN   \n",
       "39799   189749         441.0          66.0    NaN      NaN    NaN        NaN   \n",
       "40398   192552         442.0          48.0    NaN      NaN    NaN        NaN   \n",
       "\n",
       "       GridRing_h  TownRing_h  loncol_500_w  latcol_500_w name_w County_w  \\\n",
       "11647         NaN         NaN         387.0          51.0    NaN      NaN   \n",
       "13918         NaN         NaN         384.0          49.0    NaN      NaN   \n",
       "34411         NaN         NaN         366.0         506.0    NaN      NaN   \n",
       "39799         NaN         NaN         444.0          73.0    汾湖镇      吴江区   \n",
       "40398         NaN         NaN         442.0          48.0    NaN      NaN   \n",
       "\n",
       "      City_w Province_w  GridRing_w  TownRing_w  \n",
       "11647    NaN        NaN         NaN         NaN  \n",
       "13918    NaN        NaN         NaN         NaN  \n",
       "34411    NaN        NaN         NaN         NaN  \n",
       "39799    苏州市        江苏省         0.0         0.0  \n",
       "40398    NaN        NaN         NaN         NaN  "
      ]
     },
     "execution_count": 20,
     "metadata": {},
     "output_type": "execute_result"
    }
   ],
   "source": [
    "# 栅格没有对应的乡镇\n",
    "print(len(hwBaseTown[pd.isnull(hwBaseTown).any(axis=1)]))\n",
    "hwBaseTown[pd.isnull(hwBaseTown).any(axis=1)].head()"
   ]
  },
  {
   "cell_type": "code",
   "execution_count": 245,
   "metadata": {},
   "outputs": [
    {
     "data": {
      "text/plain": [
       "6479944"
      ]
     },
     "execution_count": 245,
     "metadata": {},
     "output_type": "execute_result"
    }
   ],
   "source": [
    "hwBaseTown.user_id.nunique()"
   ]
  },
  {
   "cell_type": "code",
   "execution_count": 228,
   "metadata": {
    "collapsed": true
   },
   "outputs": [],
   "source": [
    "# 城市用户量统计\n",
    "hw_pop = hwBaseTown.groupby('City_h').user_id.count().reset_index().dropna()\n",
    "hw_pop.rename(columns={'City_h':'city','user_id':'cnt'},inplace=True)"
   ]
  },
  {
   "cell_type": "code",
   "execution_count": 224,
   "metadata": {
    "collapsed": true
   },
   "outputs": [],
   "source": [
    "# 城市2017年人口\n",
    "pop = pd.DataFrame(\\\n",
    "[['上海市',2418.33,18.89],\\\n",
    "['南京市',833.50,14.86],\\\n",
    "['无锡市',655.30,13.8],\\\n",
    "['常州市',471.73,10.94],\\\n",
    "['苏州市',1068.36,22.24],\\\n",
    "['南通市',730.50,8.17],\\\n",
    "['扬州市',450.82,9.42],\\\n",
    "['镇江市',318.63,9.44],\\\n",
    "['泰州市',465.19,7.02]], columns=['city','population','originRate'])"
   ]
  },
  {
   "cell_type": "code",
   "execution_count": 246,
   "metadata": {},
   "outputs": [],
   "source": [
    "hw_poprate = pd.merge(hw_pop, pop, on='city')\n",
    "hw_poprate['rate'] = hw_poprate.cnt / hw_poprate.population / 100\n",
    "hw_poprate.sort_values('rate',ascending=False,inplace=True)\n",
    "hw_poprate.reset_index(drop=True,inplace=True)"
   ]
  },
  {
   "cell_type": "code",
   "execution_count": 247,
   "metadata": {},
   "outputs": [
    {
     "data": {
      "text/html": [
       "<div>\n",
       "<style scoped>\n",
       "    .dataframe tbody tr th:only-of-type {\n",
       "        vertical-align: middle;\n",
       "    }\n",
       "\n",
       "    .dataframe tbody tr th {\n",
       "        vertical-align: top;\n",
       "    }\n",
       "\n",
       "    .dataframe thead th {\n",
       "        text-align: right;\n",
       "    }\n",
       "</style>\n",
       "<table border=\"1\" class=\"dataframe\">\n",
       "  <thead>\n",
       "    <tr style=\"text-align: right;\">\n",
       "      <th></th>\n",
       "      <th>city</th>\n",
       "      <th>cnt</th>\n",
       "      <th>population</th>\n",
       "      <th>originRate</th>\n",
       "      <th>rate</th>\n",
       "    </tr>\n",
       "  </thead>\n",
       "  <tbody>\n",
       "    <tr>\n",
       "      <th>0</th>\n",
       "      <td>上海市</td>\n",
       "      <td>2941575</td>\n",
       "      <td>2418.33</td>\n",
       "      <td>18.89</td>\n",
       "      <td>12.163663</td>\n",
       "    </tr>\n",
       "    <tr>\n",
       "      <th>1</th>\n",
       "      <td>苏州市</td>\n",
       "      <td>1275357</td>\n",
       "      <td>1068.36</td>\n",
       "      <td>22.24</td>\n",
       "      <td>11.937521</td>\n",
       "    </tr>\n",
       "    <tr>\n",
       "      <th>2</th>\n",
       "      <td>南京市</td>\n",
       "      <td>762192</td>\n",
       "      <td>833.50</td>\n",
       "      <td>14.86</td>\n",
       "      <td>9.144475</td>\n",
       "    </tr>\n",
       "    <tr>\n",
       "      <th>3</th>\n",
       "      <td>无锡市</td>\n",
       "      <td>496736</td>\n",
       "      <td>655.30</td>\n",
       "      <td>13.80</td>\n",
       "      <td>7.580284</td>\n",
       "    </tr>\n",
       "    <tr>\n",
       "      <th>4</th>\n",
       "      <td>常州市</td>\n",
       "      <td>276196</td>\n",
       "      <td>471.73</td>\n",
       "      <td>10.94</td>\n",
       "      <td>5.854959</td>\n",
       "    </tr>\n",
       "    <tr>\n",
       "      <th>5</th>\n",
       "      <td>镇江市</td>\n",
       "      <td>166877</td>\n",
       "      <td>318.63</td>\n",
       "      <td>9.44</td>\n",
       "      <td>5.237329</td>\n",
       "    </tr>\n",
       "    <tr>\n",
       "      <th>6</th>\n",
       "      <td>扬州市</td>\n",
       "      <td>214405</td>\n",
       "      <td>450.82</td>\n",
       "      <td>9.42</td>\n",
       "      <td>4.755889</td>\n",
       "    </tr>\n",
       "    <tr>\n",
       "      <th>7</th>\n",
       "      <td>南通市</td>\n",
       "      <td>297801</td>\n",
       "      <td>730.50</td>\n",
       "      <td>8.17</td>\n",
       "      <td>4.076674</td>\n",
       "    </tr>\n",
       "    <tr>\n",
       "      <th>8</th>\n",
       "      <td>泰州市</td>\n",
       "      <td>157506</td>\n",
       "      <td>465.19</td>\n",
       "      <td>7.02</td>\n",
       "      <td>3.385842</td>\n",
       "    </tr>\n",
       "  </tbody>\n",
       "</table>\n",
       "</div>"
      ],
      "text/plain": [
       "  city      cnt  population  originRate       rate\n",
       "0  上海市  2941575     2418.33       18.89  12.163663\n",
       "1  苏州市  1275357     1068.36       22.24  11.937521\n",
       "2  南京市   762192      833.50       14.86   9.144475\n",
       "3  无锡市   496736      655.30       13.80   7.580284\n",
       "4  常州市   276196      471.73       10.94   5.854959\n",
       "5  镇江市   166877      318.63        9.44   5.237329\n",
       "6  扬州市   214405      450.82        9.42   4.755889\n",
       "7  南通市   297801      730.50        8.17   4.076674\n",
       "8  泰州市   157506      465.19        7.02   3.385842"
      ]
     },
     "execution_count": 247,
     "metadata": {},
     "output_type": "execute_result"
    }
   ],
   "source": [
    "hw_poprate"
   ]
  },
  {
   "cell_type": "code",
   "execution_count": 248,
   "metadata": {},
   "outputs": [
    {
     "data": {
      "image/png": "[encoded data removed]",
      "text/plain": [
       "<matplotlib.figure.Figure at 0x10f4d828>"
      ]
     },
     "metadata": {},
     "output_type": "display_data"
    }
   ],
   "source": [
    "fig, ax = plt.subplots(figsize=(10,5))\n",
    "def rgb(R,G,B): return \"#%02X%02X%02X\" % (R,G,B)\n",
    "plt.bar(range(9),hw_poprate.originRate,color=rgb(252,216,103))\n",
    "for i,v in enumerate(hw_poprate.originRate): ax.text(i,v+0.4, str(v)+'%',color='b',horizontalalignment='center',verticalalignment='center',\\\n",
    "                                                     fontsize=14, fontweight='bold')\n",
    "\n",
    "plt.bar(range(9),hw_poprate.rate,color=rgb(123,99,0))\n",
    "for i,v in enumerate(hw_poprate.rate): ax.text(i,v+0.5, str(round(v,2))+'%',color='b',horizontalalignment='center',verticalalignment='center',\\\n",
    "                                                     fontsize=14, fontweight='bold')\n",
    "    \n",
    "plt.xticks(range(9),hw_poprate.city.values,fontsize=14)\n",
    "plt.yticks(fontsize=14)\n",
    "plt.ylim([0,25])\n",
    "# plt.xlabel('研究范围内城市',fontsize=16)\n",
    "plt.ylabel('占总人口比率 (%)',fontsize=16)\n",
    "plt.legend(['原始手机用户','第一类用户'],fontsize=16)\n",
    "plt.savefig('C:\\\\Users\\Administrator\\Desktop\\渗透率.png',bbox_inches='tight',pad_inches=0,dpi=600)"
   ]
  },
  {
   "cell_type": "markdown",
   "metadata": {},
   "source": [
    "### (3) 职住识别验证-上海用户"
   ]
  },
  {
   "cell_type": "code",
   "execution_count": 144,
   "metadata": {
    "collapsed": true
   },
   "outputs": [],
   "source": [
    "# 上海市16个区的人口,根据《上海2018年统计年鉴》,单位：万人\n",
    "pop_sh = pd.DataFrame(\\\n",
    "[['浦东新区',552.84],\\\n",
    "['黄浦区',65.48],\\\n",
    "['徐汇区',108.83],\\\n",
    "['长宁区',69.37],\\\n",
    "['静安区',106.62],\\\n",
    "['普陀区',128.47],\\\n",
    "['虹口区',79.90],\\\n",
    "['杨浦区',131.34],\\\n",
    "['闵行区',253.43],\\\n",
    "['宝山区',203.08],\\\n",
    "['嘉定区',158.18],\\\n",
    "['金山区',80.14],\\\n",
    "['松江区',175.13],\\\n",
    "['青浦区',120.53],\\\n",
    "['奉贤区',115.53],\\\n",
    "['崇明区',69.46]],columns=['County','population'])"
   ]
  },
  {
   "cell_type": "code",
   "execution_count": 145,
   "metadata": {
    "collapsed": true
   },
   "outputs": [],
   "source": [
    "# 提取手机数据中居住和工作均在上海的用户\n",
    "hw_SH = hwBaseTown[(hwBaseTown.City_h=='上海市') & (hwBaseTown.City_w=='上海市')]\n",
    "hwSH_towncnt = hw_SH.groupby(['name_h','name_w']).user_id.count().reset_index()        # 乡镇层面\n",
    "hwSH_towncnt.rename(columns={'user_id':'cnt'},inplace=True)\n",
    "hwSH_countycnt = hw_SH.groupby(['County_h','County_w']).user_id.count().reset_index()  #区县层面\n",
    "hwSH_countycnt.rename(columns={'user_id':'cnt'},inplace=True)\n",
    "\n",
    "# 按区扩样\n",
    "user_mobile = hwSH_countycnt.groupby('County_h').cnt.sum().reset_index()\n",
    "user_expand = pd.merge(user_mobile,pop_sh,left_on='County_h',right_on='County')\n",
    "user_expand['factor'] = user_expand.population / user_expand.cnt * 10000  # 扩样因子\n",
    "\n",
    "# 扩样后的用户量\n",
    "hwSH_countycnt2 = pd.merge(hwSH_countycnt, user_expand[['County_h','factor']],on='County_h')\n",
    "hwSH_countycnt2['new_cnt'] = hwSH_countycnt2.cnt * hwSH_countycnt2.factor"
   ]
  },
  {
   "cell_type": "code",
   "execution_count": 146,
   "metadata": {
    "collapsed": true
   },
   "outputs": [],
   "source": [
    "# 2009年居民出行调查数据,直接用家庭行政区和单位行政区\n",
    "xz_survey = pd.read_csv('E:\\\\zhpy\\\\2travel_survey_2009SH\\\\hw_cnt_sh.csv',encoding='gb2312')  # 已经扩样后的职住数据\n",
    "county_combine = pd.merge(hwSH_countycnt2,xz_survey,left_on=['County_h','County_w'],right_on=['H_XZ','W_XZ'],suffixes=['_mobile','_hts'])"
   ]
  },
  {
   "cell_type": "code",
   "execution_count": 179,
   "metadata": {},
   "outputs": [
    {
     "data": {
      "text/plain": [
       "(array([0, 1, 2, 3, 4, 5, 6, 7, 8]), <a list of 9 Text yticklabel objects>)"
      ]
     },
     "execution_count": 179,
     "metadata": {},
     "output_type": "execute_result"
    },
    {
     "data": {
      "image/png": "[encoded data removed]",
      "text/plain": [
       "<matplotlib.figure.Figure at 0x1052bac8>"
      ]
     },
     "metadata": {},
     "output_type": "display_data"
    }
   ],
   "source": [
    "fig, ax = plt.subplots(figsize=(5,5))\n",
    "xsh = county_combine.new_cnt_hts.values.reshape((-1,1))\n",
    "ysh = county_combine.new_cnt_mobile.values.reshape((-1,1))\n",
    "plt.scatter(np.log10(xsh),np.log10(ysh), marker='o', linewidths=1, c='b',alpha=0.5)\n",
    "plt.plot(range(10),range(10),color='r')\n",
    "plt.xlim([0,8])\n",
    "plt.ylim([0,8])\n",
    "# plt.title('上海职住量比较',fontsize=18)\n",
    "plt.xlabel('居民出行调查数据扩样用户数',fontsize=16)\n",
    "plt.ylabel('手机信令数据扩样用户数',fontsize=16)\n",
    "plt.xticks(range(9),['$10^{}$'.format(x) for x in range(9)])\n",
    "plt.yticks(range(9),['$10^{}$'.format(x) for x in range(9)])\n",
    "plt.xticks(fontsize=14)\n",
    "plt.yticks(fontsize=14)\n",
    "\n",
    "# plt.savefig('C:\\\\Users\\Administrator\\Desktop\\z1.png',bbox_inches='tight',pad_inches=0,dpi=600)"
   ]
  },
  {
   "cell_type": "markdown",
   "metadata": {},
   "source": [
    "### (3) 职住识别验证-南京用户"
   ]
  },
  {
   "cell_type": "code",
   "execution_count": 171,
   "metadata": {
    "collapsed": true
   },
   "outputs": [],
   "source": [
    "pop_nj = pd.DataFrame(\\\n",
    "[['玄武区',60.02],\\\n",
    "['秦淮区',100.03],\\\n",
    "['建邺区',47.26],\\\n",
    "['鼓楼区',116.84],\\\n",
    "['浦口区',79.88],\\\n",
    "['栖霞区',71.79],\\\n",
    "['雨花台区',45.45],\\\n",
    "['江宁区',124.85],\\\n",
    "['六合区',96.35],\\\n",
    "['溧水区',46.39],\\\n",
    "['高淳区',44.64]],columns=['County','population'])"
   ]
  },
  {
   "cell_type": "code",
   "execution_count": 172,
   "metadata": {
    "collapsed": true
   },
   "outputs": [],
   "source": [
    "# 提取手机数据中居住和工作均在南京的用户\n",
    "hw_NJ = hwBaseTown[(hwBaseTown.City_h=='南京市') & (hwBaseTown.City_w=='南京市')]\n",
    "hwNJ_countycnt = hw_NJ.groupby(['County_h','County_w']).user_id.count().reset_index()  #区县层面\n",
    "hwNJ_countycnt.rename(columns={'user_id':'cnt'},inplace=True)"
   ]
  },
  {
   "cell_type": "code",
   "execution_count": 173,
   "metadata": {
    "collapsed": true
   },
   "outputs": [],
   "source": [
    "# 按区扩样\n",
    "user_mobile_nj = hwNJ_countycnt.groupby('County_h').cnt.sum().reset_index()\n",
    "user_expand_nj = pd.merge(user_mobile_nj,pop_nj,left_on='County_h',right_on='County')\n",
    "user_expand_nj['factor'] = user_expand_nj.population / user_expand_nj.cnt * 10000  # 扩样因子\n",
    "\n",
    "# 扩样后的用户量\n",
    "hwNJ_countycnt2 = pd.merge(hwNJ_countycnt, user_expand_nj[['County_h','factor']],on='County_h')\n",
    "hwNJ_countycnt2['new_cnt'] = hwNJ_countycnt2.cnt * hwNJ_countycnt2.factor"
   ]
  },
  {
   "cell_type": "code",
   "execution_count": 174,
   "metadata": {
    "collapsed": true
   },
   "outputs": [],
   "source": [
    "# 南京居民调查数据\n",
    "hwNJ_ncnt = pd.read_csv('E:\\\\zhpy\\\\2travel_survey_2009SH\\\\hw_cnt_nj.csv',encoding='gb2312')"
   ]
  },
  {
   "cell_type": "code",
   "execution_count": 177,
   "metadata": {},
   "outputs": [
    {
     "data": {
      "text/plain": [
       "(array([0, 1, 2, 3, 4, 5, 6, 7]), <a list of 8 Text yticklabel objects>)"
      ]
     },
     "execution_count": 177,
     "metadata": {},
     "output_type": "execute_result"
    },
    {
     "data": {
      "image/png": "[encoded data removed]",
      "text/plain": [
       "<matplotlib.figure.Figure at 0x104c85c0>"
      ]
     },
     "metadata": {},
     "output_type": "display_data"
    }
   ],
   "source": [
    "combine = pd.merge(hwNJ_countycnt2,hwNJ_ncnt,left_on=['County_h','County_w'],right_on=['H_XZ','W_XZ'],suffixes=['_mobile','_hts'])\n",
    "fig, ax = plt.subplots(figsize=(5,5))\n",
    "x = combine.new_cnt_hts.values.reshape((-1,1))\n",
    "y = combine.new_cnt_mobile.values.reshape((-1,1))\n",
    "plt.scatter(np.log10(x),np.log10(y), marker='o', linewidths=1, c='b',alpha=0.5)\n",
    "plt.plot(range(10),range(10),color='r')\n",
    "plt.xlim([0,7])\n",
    "plt.ylim([0,7])\n",
    "# plt.title('上海职住量比较',fontsize=18)\n",
    "plt.xlabel('居民出行调查数据扩样用户数 (万人)',fontsize=16)\n",
    "plt.ylabel('手机信令数据扩样用户数 (万人)',fontsize=16)\n",
    "plt.xticks(range(8),['$10^{}$'.format(x) for x in range(8)])\n",
    "plt.yticks(range(8),['$10^{}$'.format(x) for x in range(8)])\n",
    "plt.xticks(fontsize=14)\n",
    "plt.yticks(fontsize=14)\n",
    "\n",
    "# plt.savefig('C:\\\\Users\\Administrator\\Desktop\\z2.png',bbox_inches='tight',pad_inches=0,dpi=600)"
   ]
  },
  {
   "cell_type": "code",
   "execution_count": 213,
   "metadata": {},
   "outputs": [
    {
     "data": {
      "image/png": "[encoded data removed]",
      "text/plain": [
       "<matplotlib.figure.Figure at 0x10ce6390>"
      ]
     },
     "metadata": {},
     "output_type": "display_data"
    }
   ],
   "source": [
    "fig, ax = plt.subplots(figsize=(12,5))\n",
    "plt.subplot(1,2,1)\n",
    "xsh = county_combine.new_cnt_hts.values.reshape((-1,1))\n",
    "ysh = county_combine.new_cnt_mobile.values.reshape((-1,1))\n",
    "plt.plot(range(10),range(10),color='r')\n",
    "plt.scatter(np.log10(xsh),np.log10(ysh), marker='o', linewidths=1, c='b',alpha=0.5)\n",
    "\n",
    "plt.xlim([0,8])\n",
    "plt.ylim([0,8])\n",
    "plt.title('(a) 上海市',fontsize=18)\n",
    "plt.xlabel('居民出行调查数据扩样用户数',fontsize=16)\n",
    "plt.ylabel('手机信令数据扩样用户数',fontsize=16)\n",
    "plt.xticks(range(9),['$10^{}$'.format(x) for x in range(9)])\n",
    "plt.yticks(range(9),['$10^{}$'.format(x) for x in range(9)])\n",
    "plt.xticks(fontsize=14)\n",
    "plt.yticks(fontsize=14)\n",
    "\n",
    "plt.subplot(1,2,2)\n",
    "combine = pd.merge(hwNJ_countycnt2,hwNJ_ncnt,left_on=['County_h','County_w'],right_on=['H_XZ','W_XZ'],suffixes=['_mobile','_hts'])\n",
    "x = combine.new_cnt_hts.values.reshape((-1,1))\n",
    "y = combine.new_cnt_mobile.values.reshape((-1,1))\n",
    "plt.plot(range(10),range(10),color='r')\n",
    "plt.scatter(np.log10(x),np.log10(y), marker='o', linewidths=1, c='b',alpha=0.5)\n",
    "\n",
    "plt.xlim([0,8])\n",
    "plt.ylim([0,8])\n",
    "plt.title('(b) 南京市',fontsize=18)\n",
    "plt.xlabel('居民出行调查数据扩样用户数',fontsize=16)\n",
    "plt.ylabel('手机信令数据扩样用户数',fontsize=16)\n",
    "plt.xticks(range(9),['$10^{}$'.format(x) for x in range(9)])\n",
    "plt.yticks(range(9),['$10^{}$'.format(x) for x in range(9)])\n",
    "plt.xticks(fontsize=14)\n",
    "plt.yticks(fontsize=14)\n",
    "plt.subplots_adjust(wspace=0.3)\n",
    "\n",
    "\n",
    "# plt.savefig('C:\\\\Users\\Administrator\\Desktop\\z1.png',bbox_inches='tight',pad_inches=0,dpi=600)"
   ]
  },
  {
   "cell_type": "markdown",
   "metadata": {},
   "source": [
    "### (4) hw1分析---上海市域、外环"
   ]
  },
  {
   "cell_type": "code",
   "execution_count": 22,
   "metadata": {},
   "outputs": [
    {
     "data": {
      "text/html": [
       "<div>\n",
       "<style scoped>\n",
       "    .dataframe tbody tr th:only-of-type {\n",
       "        vertical-align: middle;\n",
       "    }\n",
       "\n",
       "    .dataframe tbody tr th {\n",
       "        vertical-align: top;\n",
       "    }\n",
       "\n",
       "    .dataframe thead th {\n",
       "        text-align: right;\n",
       "    }\n",
       "</style>\n",
       "<table border=\"1\" class=\"dataframe\">\n",
       "  <thead>\n",
       "    <tr style=\"text-align: right;\">\n",
       "      <th></th>\n",
       "      <th>user_id</th>\n",
       "      <th>loncol_500_h</th>\n",
       "      <th>latcol_500_h</th>\n",
       "      <th>name_h</th>\n",
       "      <th>County_h</th>\n",
       "      <th>City_h</th>\n",
       "      <th>Province_h</th>\n",
       "      <th>GridRing_h</th>\n",
       "      <th>TownRing_h</th>\n",
       "      <th>loncol_500_w</th>\n",
       "      <th>latcol_500_w</th>\n",
       "      <th>name_w</th>\n",
       "      <th>County_w</th>\n",
       "      <th>City_w</th>\n",
       "      <th>Province_w</th>\n",
       "      <th>GridRing_w</th>\n",
       "      <th>TownRing_w</th>\n",
       "    </tr>\n",
       "  </thead>\n",
       "  <tbody>\n",
       "    <tr>\n",
       "      <th>0</th>\n",
       "      <td>16</td>\n",
       "      <td>571.0</td>\n",
       "      <td>116.0</td>\n",
       "      <td>虹桥镇</td>\n",
       "      <td>闵行区</td>\n",
       "      <td>上海市</td>\n",
       "      <td>上海市</td>\n",
       "      <td>1.0</td>\n",
       "      <td>1.0</td>\n",
       "      <td>571.0</td>\n",
       "      <td>116.0</td>\n",
       "      <td>虹桥镇</td>\n",
       "      <td>闵行区</td>\n",
       "      <td>上海市</td>\n",
       "      <td>上海市</td>\n",
       "      <td>1.0</td>\n",
       "      <td>1.0</td>\n",
       "    </tr>\n",
       "    <tr>\n",
       "      <th>1</th>\n",
       "      <td>31</td>\n",
       "      <td>562.0</td>\n",
       "      <td>160.0</td>\n",
       "      <td>罗店镇</td>\n",
       "      <td>宝山区</td>\n",
       "      <td>上海市</td>\n",
       "      <td>上海市</td>\n",
       "      <td>0.0</td>\n",
       "      <td>0.0</td>\n",
       "      <td>572.0</td>\n",
       "      <td>120.0</td>\n",
       "      <td>仙霞新村街道</td>\n",
       "      <td>长宁区</td>\n",
       "      <td>上海市</td>\n",
       "      <td>上海市</td>\n",
       "      <td>1.0</td>\n",
       "      <td>1.0</td>\n",
       "    </tr>\n",
       "    <tr>\n",
       "      <th>2</th>\n",
       "      <td>34</td>\n",
       "      <td>591.0</td>\n",
       "      <td>146.0</td>\n",
       "      <td>新江湾城街道</td>\n",
       "      <td>杨浦区</td>\n",
       "      <td>上海市</td>\n",
       "      <td>上海市</td>\n",
       "      <td>1.0</td>\n",
       "      <td>1.0</td>\n",
       "      <td>578.0</td>\n",
       "      <td>111.0</td>\n",
       "      <td>漕河泾街道</td>\n",
       "      <td>徐汇区</td>\n",
       "      <td>上海市</td>\n",
       "      <td>上海市</td>\n",
       "      <td>1.0</td>\n",
       "      <td>1.0</td>\n",
       "    </tr>\n",
       "    <tr>\n",
       "      <th>3</th>\n",
       "      <td>38</td>\n",
       "      <td>86.0</td>\n",
       "      <td>280.0</td>\n",
       "      <td>秣陵街道</td>\n",
       "      <td>江宁区</td>\n",
       "      <td>南京市</td>\n",
       "      <td>江苏省</td>\n",
       "      <td>0.0</td>\n",
       "      <td>0.0</td>\n",
       "      <td>86.0</td>\n",
       "      <td>280.0</td>\n",
       "      <td>秣陵街道</td>\n",
       "      <td>江宁区</td>\n",
       "      <td>南京市</td>\n",
       "      <td>江苏省</td>\n",
       "      <td>0.0</td>\n",
       "      <td>0.0</td>\n",
       "    </tr>\n",
       "    <tr>\n",
       "      <th>4</th>\n",
       "      <td>40</td>\n",
       "      <td>205.0</td>\n",
       "      <td>376.0</td>\n",
       "      <td>汤汪乡</td>\n",
       "      <td>广陵区</td>\n",
       "      <td>扬州市</td>\n",
       "      <td>江苏省</td>\n",
       "      <td>0.0</td>\n",
       "      <td>0.0</td>\n",
       "      <td>197.0</td>\n",
       "      <td>381.0</td>\n",
       "      <td>文汇街道</td>\n",
       "      <td>邗江区</td>\n",
       "      <td>扬州市</td>\n",
       "      <td>江苏省</td>\n",
       "      <td>0.0</td>\n",
       "      <td>0.0</td>\n",
       "    </tr>\n",
       "  </tbody>\n",
       "</table>\n",
       "</div>"
      ],
      "text/plain": [
       "   user_id  loncol_500_h  latcol_500_h  name_h County_h City_h Province_h  \\\n",
       "0       16         571.0         116.0     虹桥镇      闵行区    上海市        上海市   \n",
       "1       31         562.0         160.0     罗店镇      宝山区    上海市        上海市   \n",
       "2       34         591.0         146.0  新江湾城街道      杨浦区    上海市        上海市   \n",
       "3       38          86.0         280.0    秣陵街道      江宁区    南京市        江苏省   \n",
       "4       40         205.0         376.0     汤汪乡      广陵区    扬州市        江苏省   \n",
       "\n",
       "   GridRing_h  TownRing_h  loncol_500_w  latcol_500_w  name_w County_w City_w  \\\n",
       "0         1.0         1.0         571.0         116.0     虹桥镇      闵行区    上海市   \n",
       "1         0.0         0.0         572.0         120.0  仙霞新村街道      长宁区    上海市   \n",
       "2         1.0         1.0         578.0         111.0   漕河泾街道      徐汇区    上海市   \n",
       "3         0.0         0.0          86.0         280.0    秣陵街道      江宁区    南京市   \n",
       "4         0.0         0.0         197.0         381.0    文汇街道      邗江区    扬州市   \n",
       "\n",
       "  Province_w  GridRing_w  TownRing_w  \n",
       "0        上海市         1.0         1.0  \n",
       "1        上海市         1.0         1.0  \n",
       "2        上海市         1.0         1.0  \n",
       "3        江苏省         0.0         0.0  \n",
       "4        江苏省         0.0         0.0  "
      ]
     },
     "execution_count": 22,
     "metadata": {},
     "output_type": "execute_result"
    }
   ],
   "source": [
    "# 799个栅格没有乡镇对应\n",
    "hwBaseTown.head()"
   ]
  },
  {
   "cell_type": "markdown",
   "metadata": {},
   "source": [
    "#### $1 上海市区(外环)---栅格层面"
   ]
  },
  {
   "cell_type": "code",
   "execution_count": 24,
   "metadata": {
    "collapsed": true
   },
   "outputs": [],
   "source": [
    "# shanghai outer ring，不需要剔除空值，都有对应的栅格\n",
    "shor1 = hwBaseTown[(hwBaseTown.GridRing_h ==1) & (hwBaseTown.GridRing_w == 1)]    # 在市区居住、在市区工作\n",
    "shor2 = hwBaseTown[(hwBaseTown.GridRing_h ==1) & (hwBaseTown.GridRing_w == 0)]    # 在市区居住、在市区外工作\n",
    "shor3 = hwBaseTown[(hwBaseTown.GridRing_h ==0) & (hwBaseTown.GridRing_w == 1)]    # 在市区外居住、在市区工作\n",
    "shor4 = hwBaseTown[(hwBaseTown.GridRing_h ==0) & (hwBaseTown.GridRing_w == 0)]    # 在市区外居住、在市区外工作"
   ]
  },
  {
   "cell_type": "code",
   "execution_count": 40,
   "metadata": {},
   "outputs": [],
   "source": [
    "# 内向通勤\n",
    "shor3_hcnt = shor3.groupby(['loncol_500_h','latcol_500_h']).user_id.count().reset_index()\n",
    "shor3_hcnt.rename(columns={'user_id':'cnt'},inplace=True)\n",
    "shor3_hcnt_grid = grid.merge(shor3_hcnt,left_on=['LONCOL','LATCOL'],right_on=['loncol_500_h','latcol_500_h'],how='inner')\n",
    "shor3_hcnt_grid.to_file('../190622上海通勤率分析/ArcGIS图/shor3_homecnt.shp',encoding='gb2312')\n",
    "\n",
    "shor3_wcnt = shor3.groupby(['loncol_500_w','latcol_500_w']).user_id.count().reset_index()\n",
    "shor3_wcnt.rename(columns={'user_id':'cnt'},inplace=True)\n",
    "shor3_wcnt_grid = grid.merge(shor3_wcnt,left_on=['LONCOL','LATCOL'],right_on=['loncol_500_w','latcol_500_w'],how='inner')\n",
    "shor3_wcnt_grid.to_file('../190622上海通勤率分析/ArcGIS图/shor3_workcnt.shp',encoding='gb2312')"
   ]
  },
  {
   "cell_type": "code",
   "execution_count": 42,
   "metadata": {
    "collapsed": true
   },
   "outputs": [],
   "source": [
    "# 外向通勤\n",
    "shor2_hcnt = shor2.groupby(['loncol_500_h','latcol_500_h']).user_id.count().reset_index()\n",
    "shor2_hcnt.rename(columns={'user_id':'cnt'},inplace=True)\n",
    "shor2_hcnt_grid = grid.merge(shor2_hcnt,left_on=['LONCOL','LATCOL'],right_on=['loncol_500_h','latcol_500_h'],how='inner')\n",
    "shor2_hcnt_grid.to_file('../190622上海通勤率分析/ArcGIS图/shor2_homecnt.shp',encoding='gb2312')\n",
    "\n",
    "shor2_wcnt = shor2.groupby(['loncol_500_w','latcol_500_w']).user_id.count().reset_index()\n",
    "shor2_wcnt.rename(columns={'user_id':'cnt'},inplace=True)\n",
    "shor2_wcnt_grid = grid.merge(shor2_wcnt,left_on=['LONCOL','LATCOL'],right_on=['loncol_500_w','latcol_500_w'],how='inner')\n",
    "shor2_wcnt_grid.to_file('../190622上海通勤率分析/ArcGIS图/shor2_workcnt.shp',encoding='gb2312')"
   ]
  },
  {
   "cell_type": "markdown",
   "metadata": {},
   "source": [
    "#### $2 上海市区(外环)---街道层面"
   ]
  },
  {
   "cell_type": "code",
   "execution_count": null,
   "metadata": {
    "collapsed": true
   },
   "outputs": [],
   "source": [
    "# shanghai outer ring town\n",
    "hwBaseTown2 = hwBaseTown.dropna()    # 对于街道，先剔除栅格无对应的数据\n",
    "\n",
    "short1 = hwBaseTown2[(hwBaseTown2.TownRing_h ==1) & (hwBaseTown2.TownRing_w == 1)]    # 在市区居住、在市区工作\n",
    "short2 = hwBaseTown2[(hwBaseTown2.TownRing_h ==1) & (hwBaseTown2.TownRing_w == 0)]    # 在市区居住、在市区外工作\n",
    "short3 = hwBaseTown2[(hwBaseTown2.TownRing_h ==0) & (hwBaseTown2.TownRing_w == 1)]    # 在市区外居住、在市区工作\n",
    "short4 = hwBaseTown2[(hwBaseTown2.TownRing_h ==0) & (hwBaseTown2.TownRing_w == 0)]    # 在市区外居住、在市区外工作\n",
    "\n",
    "# 内向通勤\n",
    "short3_hcnt = short3.groupby(['name_h','County_h']).user_id.count().reset_index()\n",
    "short3_hcnt.rename(columns={'user_id':'cnt'},inplace=True)\n",
    "short3_hcnt_town = town.merge(short3_hcnt,left_on=['name','County'],right_on=['name_h','County_h'],how='inner')\n",
    "short3_hcnt_town.to_file('../190622上海通勤率分析/ArcGIS图/short3_homecnt_town.shp',encoding='gb2312')\n",
    "\n",
    "# 外向通勤\n",
    "short2_wcnt = short2.groupby(['name_w','County_w']).user_id.count().reset_index()\n",
    "short2_wcnt.rename(columns={'user_id':'cnt'},inplace=True)\n",
    "short2_wcnt = pd.merge(short2_wcnt,pop_town_sh,left_on=['name_w','County_w'],right_on=['name','County'],how='inner')\n",
    "short2_wcnt['rate'] = short2_wcnt.cnt / short2_wcnt.population\n",
    "short2_wcnt_town = town.merge(short2_wcnt[['name_w','County_w','rate']],left_on=['name','County'],right_on=['name_w','County_w'],how='inner')\n",
    "short2_wcnt_town.to_file('../190622上海通勤率分析/ArcGIS图/short2_workcnt_town.shp',encoding='gb2312')"
   ]
  },
  {
   "cell_type": "code",
   "execution_count": 117,
   "metadata": {},
   "outputs": [],
   "source": [
    "hwBaseTown2 = hwBaseTown.dropna()    # 对于街道，先剔除栅格无对应的数据\n",
    "\n",
    "# 上海乡镇街道人口，columns=['County', 'name', 'population']\n",
    "pop_town_sh = pd.read_csv('../0基础数据/上海乡镇人口数据.csv',encoding='gb2312')\n",
    "\n",
    "# 扩样\n",
    "hw1_town_user = hwBaseTown2.groupby(['County_h','name_h']).user_id.count().reset_index()\n",
    "hw1_town_user.rename(columns={'user_id':'user_num'},inplace=True)\n",
    "hw1_town_user = pd.merge(hw1_town_user,pop_town_sh,left_on=['County_h','name_h'],right_on=['County','name'],how='left')\n",
    "hwBaseTown2 = pd.merge(hwBaseTown2,hw1_town_user,on=['County_h','name_h'],how='left')\n",
    "hwBaseTown2['expand'] = hwBaseTown2.population / hwBaseTown2.user_num\n",
    "\n",
    "short1 = hwBaseTown2[(hwBaseTown2.TownRing_h ==1) & (hwBaseTown2.TownRing_w == 1)]    # 在市区居住、在市区工作\n",
    "short2 = hwBaseTown2[(hwBaseTown2.TownRing_h ==1) & (hwBaseTown2.TownRing_w == 0)]    # 在市区居住、在市区外工作\n",
    "short3 = hwBaseTown2[(hwBaseTown2.TownRing_h ==0) & (hwBaseTown2.TownRing_w == 1)]    # 在市区外居住、在市区工作\n",
    "short4 = hwBaseTown2[(hwBaseTown2.TownRing_h ==0) & (hwBaseTown2.TownRing_w == 0)]    # 在市区外居住、在市区外工作\n",
    "\n",
    "# 内向通勤\n",
    "short3_hcnt = short3.groupby(['name_h','County_h']).expand.sum().reset_index()\n",
    "short3_hcnt.rename(columns={'expand':'cnt'},inplace=True)\n",
    "short3_hcnt = pd.merge(short3_hcnt,pop_town_sh,left_on=['name_h','County_h'],right_on=['name','County'],how='inner')\n",
    "short3_hcnt['rate'] = short3_hcnt.cnt / short3_hcnt.population\n",
    "short3_hcnt_town = town.merge(short3_hcnt[['name_h','County_h','rate']],left_on=['name','County'],right_on=['name_h','County_h'],how='inner')\n",
    "short3_hcnt_town.to_file('../190622上海通勤率分析/ArcGIS图-扩样/short3_homecnt_town.shp',encoding='gb2312')\n",
    "\n",
    "# 外向通勤\n",
    "short2_wcnt = short2.groupby(['name_w','County_w']).expand.sum().reset_index()\n",
    "short2_wcnt.rename(columns={'expand':'cnt'},inplace=True)\n",
    "short2_wcnt = pd.merge(short2_wcnt,pop_town_sh,left_on=['name_w','County_w'],right_on=['name','County'],how='inner')\n",
    "short2_wcnt['rate'] = short2_wcnt.cnt / short2_wcnt.population\n",
    "short2_wcnt_town = town.merge(short2_wcnt[['name_w','County_w','rate']],left_on=['name','County'],right_on=['name_w','County_w'],how='inner')\n",
    "short2_wcnt_town.to_file('../190622上海通勤率分析/ArcGIS图-扩样/short2_workcnt_town.shp',encoding='gb2312')"
   ]
  },
  {
   "cell_type": "code",
   "execution_count": 118,
   "metadata": {},
   "outputs": [
    {
     "data": {
      "text/html": [
       "<div>\n",
       "<style scoped>\n",
       "    .dataframe tbody tr th:only-of-type {\n",
       "        vertical-align: middle;\n",
       "    }\n",
       "\n",
       "    .dataframe tbody tr th {\n",
       "        vertical-align: top;\n",
       "    }\n",
       "\n",
       "    .dataframe thead th {\n",
       "        text-align: right;\n",
       "    }\n",
       "</style>\n",
       "<table border=\"1\" class=\"dataframe\">\n",
       "  <thead>\n",
       "    <tr style=\"text-align: right;\">\n",
       "      <th></th>\n",
       "      <th>user_id</th>\n",
       "      <th>loncol_500_h</th>\n",
       "      <th>latcol_500_h</th>\n",
       "      <th>name_h</th>\n",
       "      <th>County_h</th>\n",
       "      <th>City_h</th>\n",
       "      <th>Province_h</th>\n",
       "      <th>GridRing_h</th>\n",
       "      <th>TownRing_h</th>\n",
       "      <th>loncol_500_w</th>\n",
       "      <th>latcol_500_w</th>\n",
       "      <th>name_w</th>\n",
       "      <th>County_w</th>\n",
       "      <th>City_w</th>\n",
       "      <th>Province_w</th>\n",
       "      <th>GridRing_w</th>\n",
       "      <th>TownRing_w</th>\n",
       "    </tr>\n",
       "  </thead>\n",
       "  <tbody>\n",
       "    <tr>\n",
       "      <th>0</th>\n",
       "      <td>16</td>\n",
       "      <td>571.0</td>\n",
       "      <td>116.0</td>\n",
       "      <td>虹桥镇</td>\n",
       "      <td>闵行区</td>\n",
       "      <td>上海市</td>\n",
       "      <td>上海市</td>\n",
       "      <td>1.0</td>\n",
       "      <td>1.0</td>\n",
       "      <td>571.0</td>\n",
       "      <td>116.0</td>\n",
       "      <td>虹桥镇</td>\n",
       "      <td>闵行区</td>\n",
       "      <td>上海市</td>\n",
       "      <td>上海市</td>\n",
       "      <td>1.0</td>\n",
       "      <td>1.0</td>\n",
       "    </tr>\n",
       "    <tr>\n",
       "      <th>1</th>\n",
       "      <td>31</td>\n",
       "      <td>562.0</td>\n",
       "      <td>160.0</td>\n",
       "      <td>罗店镇</td>\n",
       "      <td>宝山区</td>\n",
       "      <td>上海市</td>\n",
       "      <td>上海市</td>\n",
       "      <td>0.0</td>\n",
       "      <td>0.0</td>\n",
       "      <td>572.0</td>\n",
       "      <td>120.0</td>\n",
       "      <td>仙霞新村街道</td>\n",
       "      <td>长宁区</td>\n",
       "      <td>上海市</td>\n",
       "      <td>上海市</td>\n",
       "      <td>1.0</td>\n",
       "      <td>1.0</td>\n",
       "    </tr>\n",
       "    <tr>\n",
       "      <th>2</th>\n",
       "      <td>34</td>\n",
       "      <td>591.0</td>\n",
       "      <td>146.0</td>\n",
       "      <td>新江湾城街道</td>\n",
       "      <td>杨浦区</td>\n",
       "      <td>上海市</td>\n",
       "      <td>上海市</td>\n",
       "      <td>1.0</td>\n",
       "      <td>1.0</td>\n",
       "      <td>578.0</td>\n",
       "      <td>111.0</td>\n",
       "      <td>漕河泾街道</td>\n",
       "      <td>徐汇区</td>\n",
       "      <td>上海市</td>\n",
       "      <td>上海市</td>\n",
       "      <td>1.0</td>\n",
       "      <td>1.0</td>\n",
       "    </tr>\n",
       "    <tr>\n",
       "      <th>3</th>\n",
       "      <td>38</td>\n",
       "      <td>86.0</td>\n",
       "      <td>280.0</td>\n",
       "      <td>秣陵街道</td>\n",
       "      <td>江宁区</td>\n",
       "      <td>南京市</td>\n",
       "      <td>江苏省</td>\n",
       "      <td>0.0</td>\n",
       "      <td>0.0</td>\n",
       "      <td>86.0</td>\n",
       "      <td>280.0</td>\n",
       "      <td>秣陵街道</td>\n",
       "      <td>江宁区</td>\n",
       "      <td>南京市</td>\n",
       "      <td>江苏省</td>\n",
       "      <td>0.0</td>\n",
       "      <td>0.0</td>\n",
       "    </tr>\n",
       "    <tr>\n",
       "      <th>4</th>\n",
       "      <td>40</td>\n",
       "      <td>205.0</td>\n",
       "      <td>376.0</td>\n",
       "      <td>汤汪乡</td>\n",
       "      <td>广陵区</td>\n",
       "      <td>扬州市</td>\n",
       "      <td>江苏省</td>\n",
       "      <td>0.0</td>\n",
       "      <td>0.0</td>\n",
       "      <td>197.0</td>\n",
       "      <td>381.0</td>\n",
       "      <td>文汇街道</td>\n",
       "      <td>邗江区</td>\n",
       "      <td>扬州市</td>\n",
       "      <td>江苏省</td>\n",
       "      <td>0.0</td>\n",
       "      <td>0.0</td>\n",
       "    </tr>\n",
       "  </tbody>\n",
       "</table>\n",
       "</div>"
      ],
      "text/plain": [
       "   user_id  loncol_500_h  latcol_500_h  name_h County_h City_h Province_h  \\\n",
       "0       16         571.0         116.0     虹桥镇      闵行区    上海市        上海市   \n",
       "1       31         562.0         160.0     罗店镇      宝山区    上海市        上海市   \n",
       "2       34         591.0         146.0  新江湾城街道      杨浦区    上海市        上海市   \n",
       "3       38          86.0         280.0    秣陵街道      江宁区    南京市        江苏省   \n",
       "4       40         205.0         376.0     汤汪乡      广陵区    扬州市        江苏省   \n",
       "\n",
       "   GridRing_h  TownRing_h  loncol_500_w  latcol_500_w  name_w County_w City_w  \\\n",
       "0         1.0         1.0         571.0         116.0     虹桥镇      闵行区    上海市   \n",
       "1         0.0         0.0         572.0         120.0  仙霞新村街道      长宁区    上海市   \n",
       "2         1.0         1.0         578.0         111.0   漕河泾街道      徐汇区    上海市   \n",
       "3         0.0         0.0          86.0         280.0    秣陵街道      江宁区    南京市   \n",
       "4         0.0         0.0         197.0         381.0    文汇街道      邗江区    扬州市   \n",
       "\n",
       "  Province_w  GridRing_w  TownRing_w  \n",
       "0        上海市         1.0         1.0  \n",
       "1        上海市         1.0         1.0  \n",
       "2        上海市         1.0         1.0  \n",
       "3        江苏省         0.0         0.0  \n",
       "4        江苏省         0.0         0.0  "
      ]
     },
     "execution_count": 118,
     "metadata": {},
     "output_type": "execute_result"
    }
   ],
   "source": [
    "hwBaseTown.head()"
   ]
  },
  {
   "cell_type": "code",
   "execution_count": 61,
   "metadata": {},
   "outputs": [
    {
     "data": {
      "text/plain": [
       "City_w\n",
       "上海市    2846531\n",
       "苏州市      13555\n",
       "南通市        772\n",
       "无锡市        256\n",
       "南京市        130\n",
       "常州市         79\n",
       "泰州市         54\n",
       "镇江市         22\n",
       "扬州市         22\n",
       "Name: user_id, dtype: int64"
      ]
     },
     "execution_count": 61,
     "metadata": {},
     "output_type": "execute_result"
    }
   ],
   "source": [
    "hsh"
   ]
  },
  {
   "cell_type": "code",
   "execution_count": 59,
   "metadata": {
    "collapsed": true
   },
   "outputs": [],
   "source": [
    "hsh = hwBaseTown[hwBaseTown.City_h == '上海市'].groupby('City_w').count().user_id.sort_values(ascending=False)\n",
    "wsh = hwBaseTown[hwBaseTown.City_w == '上海市'].groupby('City_h').count().user_id.sort_values(ascending=False)"
   ]
  },
  {
   "cell_type": "code",
   "execution_count": null,
   "metadata": {
    "collapsed": true
   },
   "outputs": [],
   "source": []
  },
  {
   "cell_type": "code",
   "execution_count": 67,
   "metadata": {},
   "outputs": [
    {
     "data": {
      "text/plain": [
       "City_h\n",
       "上海市    2846531\n",
       "苏州市      13950\n",
       "南通市       2477\n",
       "无锡市        231\n",
       "南京市        104\n",
       "常州市         59\n",
       "镇江市         24\n",
       "泰州市         19\n",
       "扬州市         19\n",
       "Name: user_id, dtype: int64"
      ]
     },
     "execution_count": 67,
     "metadata": {},
     "output_type": "execute_result"
    }
   ],
   "source": [
    "wsh"
   ]
  },
  {
   "cell_type": "markdown",
   "metadata": {},
   "source": [
    "#### 上海市域---栅格层面"
   ]
  },
  {
   "cell_type": "code",
   "execution_count": null,
   "metadata": {
    "collapsed": true
   },
   "outputs": [],
   "source": []
  },
  {
   "cell_type": "code",
   "execution_count": 142,
   "metadata": {},
   "outputs": [],
   "source": [
    "pd.DataFrame(grid.drop(columns='geometry')).to_csv('C:\\\\Users\\\\Administrator\\\\Desktop\\\\grid_town.csv',encoding='gbk',index=False)"
   ]
  }
 ],
 "metadata": {
  "kernelspec": {
   "display_name": "Python 3",
   "language": "python",
   "name": "python3"
  },
  "language_info": {
   "codemirror_mode": {
    "name": "ipython",
    "version": 3
   },
   "file_extension": ".py",
   "mimetype": "text/x-python",
   "name": "python",
   "nbconvert_exporter": "python",
   "pygments_lexer": "ipython3",
   "version": "3.6.3"
  }
 },
 "nbformat": 4,
 "nbformat_minor": 2
}
