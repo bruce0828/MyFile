{
 "cells": [
  {
   "cell_type": "markdown",
   "metadata": {},
   "source": [
    "# 2009年上海居民出行调查数据\n",
    "* (1)family.csv\n",
    "* (2)person.csv\n",
    "* (3)trip.csv\n",
    "\n",
    "# 2015年南京居民出行调查数据\n",
    "* (1)家庭.sheet\n",
    "* (2)成员.sheet\n",
    "* (3)出行.sheet"
   ]
  },
  {
   "cell_type": "code",
   "execution_count": 1,
   "metadata": {
    "collapsed": true
   },
   "outputs": [],
   "source": [
    "import numpy as np\n",
    "import pandas as pd\n",
    "import seaborn as sns\n",
    "import geopandas as gpd\n",
    "import shapely\n",
    "import os\n",
    "import datetime\n",
    "import matplotlib as mpl\n",
    "import matplotlib.pyplot as plt\n",
    "%matplotlib inline\n",
    "\n",
    "plt.rcParams['font.family'] = ['sans-serif']\n",
    "plt.rcParams['font.sans-serif'] = ['SimHei']\n",
    "\n",
    "pd.set_option('max_rows',1000)\n",
    "pd.set_option('max_columns',50)\n",
    "\n",
    "os.chdir('E:\\\\zhpy\\\\2travel_survey_2009SH')"
   ]
  },
  {
   "cell_type": "markdown",
   "metadata": {},
   "source": [
    "### (1) 上海"
   ]
  },
  {
   "cell_type": "code",
   "execution_count": 2,
   "metadata": {
    "collapsed": true
   },
   "outputs": [],
   "source": [
    "# 上海-----------------------------------------------------------------\n",
    "# W_XZ：单位行政区\n",
    "# STREET：单位街道\n",
    "# gender: （1.男 2.女）\n",
    "# edu: (1.小学以下2.小学 3.初中 4.高中 5.大专6.本科 7.研究生及以上)\n",
    "# job: （1.单位负责人2.专业技术人员3.办事人员及有关人员4.私营业主及个体经营者|5.农林牧渔水利生产人员6.生产运输设备操作人员\n",
    "#        7.商业及服务人员8.离退休人员9.离退休再就业人员10.学生11.其它）\n",
    "# income: (1.无 2.<1000   3.1001-2000 4.2001-3000   5.3001-5000 6.5001-10000  7.>10000)\n",
    "# Pcharacter: (1.户籍人口  2.非户籍常住3.非户籍流动)\n",
    "# iftrip: （1.出行  2.不出行）\n",
    "# ifworkday: （1.工作日2.双休日）\n",
    "personSH_cols = ['HomeID','PersonID','W_XZ','STREET','age','gender','edu','job','income','Pcharacter',\\\n",
    "               'iftrip','ifworkday','Pweight','UNIT_X','UNIT_Y']\n",
    "personSH = pd.read_csv('./person.csv',usecols=personSH_cols)\n",
    "personSH.iftrip = personSH.iftrip.apply(lambda x: x[2:])\n",
    "personSH.ifworkday = personSH.ifworkday.apply(lambda x: x[2:])\n",
    "personSH.sort_values(['HomeID','PersonID'],inplace=True)"
   ]
  },
  {
   "cell_type": "code",
   "execution_count": 3,
   "metadata": {},
   "outputs": [
    {
     "data": {
      "text/html": [
       "<div>\n",
       "<style scoped>\n",
       "    .dataframe tbody tr th:only-of-type {\n",
       "        vertical-align: middle;\n",
       "    }\n",
       "\n",
       "    .dataframe tbody tr th {\n",
       "        vertical-align: top;\n",
       "    }\n",
       "\n",
       "    .dataframe thead th {\n",
       "        text-align: right;\n",
       "    }\n",
       "</style>\n",
       "<table border=\"1\" class=\"dataframe\">\n",
       "  <thead>\n",
       "    <tr style=\"text-align: right;\">\n",
       "      <th></th>\n",
       "      <th>PersonID</th>\n",
       "      <th>HomeID</th>\n",
       "      <th>W_XZ</th>\n",
       "      <th>STREET</th>\n",
       "      <th>age</th>\n",
       "      <th>gender</th>\n",
       "      <th>edu</th>\n",
       "      <th>job</th>\n",
       "      <th>income</th>\n",
       "      <th>Pcharacter</th>\n",
       "      <th>iftrip</th>\n",
       "      <th>ifworkday</th>\n",
       "      <th>Pweight</th>\n",
       "      <th>UNIT_X</th>\n",
       "      <th>UNIT_Y</th>\n",
       "    </tr>\n",
       "  </thead>\n",
       "  <tbody>\n",
       "    <tr>\n",
       "      <th>0</th>\n",
       "      <td>1</td>\n",
       "      <td>1</td>\n",
       "      <td>青浦区</td>\n",
       "      <td>NaN</td>\n",
       "      <td>46</td>\n",
       "      <td>1</td>\n",
       "      <td>3</td>\n",
       "      <td>5</td>\n",
       "      <td>3</td>\n",
       "      <td>1.户籍人口</td>\n",
       "      <td>出行</td>\n",
       "      <td>工作日</td>\n",
       "      <td>89.22</td>\n",
       "      <td>121.020038</td>\n",
       "      <td>30.976588</td>\n",
       "    </tr>\n",
       "    <tr>\n",
       "      <th>1</th>\n",
       "      <td>2</td>\n",
       "      <td>1</td>\n",
       "      <td>青浦区</td>\n",
       "      <td>NaN</td>\n",
       "      <td>43</td>\n",
       "      <td>2</td>\n",
       "      <td>3</td>\n",
       "      <td>4</td>\n",
       "      <td>3</td>\n",
       "      <td>1.户籍人口</td>\n",
       "      <td>出行</td>\n",
       "      <td>工作日</td>\n",
       "      <td>72.74</td>\n",
       "      <td>121.020038</td>\n",
       "      <td>30.976588</td>\n",
       "    </tr>\n",
       "    <tr>\n",
       "      <th>2</th>\n",
       "      <td>3</td>\n",
       "      <td>2</td>\n",
       "      <td>青浦区</td>\n",
       "      <td>1盈浦</td>\n",
       "      <td>46</td>\n",
       "      <td>1</td>\n",
       "      <td>3</td>\n",
       "      <td>11</td>\n",
       "      <td>2</td>\n",
       "      <td>1.户籍人口</td>\n",
       "      <td>出行</td>\n",
       "      <td>工作日</td>\n",
       "      <td>235.11</td>\n",
       "      <td>121.467201</td>\n",
       "      <td>31.235452</td>\n",
       "    </tr>\n",
       "    <tr>\n",
       "      <th>3</th>\n",
       "      <td>4</td>\n",
       "      <td>2</td>\n",
       "      <td>青浦区</td>\n",
       "      <td>漕盈路</td>\n",
       "      <td>46</td>\n",
       "      <td>2</td>\n",
       "      <td>3</td>\n",
       "      <td>11</td>\n",
       "      <td>2</td>\n",
       "      <td>1.户籍人口</td>\n",
       "      <td>出行</td>\n",
       "      <td>工作日</td>\n",
       "      <td>179.28</td>\n",
       "      <td>121.467201</td>\n",
       "      <td>31.235452</td>\n",
       "    </tr>\n",
       "    <tr>\n",
       "      <th>4</th>\n",
       "      <td>5</td>\n",
       "      <td>2</td>\n",
       "      <td>青浦区</td>\n",
       "      <td>漕盈</td>\n",
       "      <td>23</td>\n",
       "      <td>2</td>\n",
       "      <td>5</td>\n",
       "      <td>2</td>\n",
       "      <td>2</td>\n",
       "      <td>1.户籍人口</td>\n",
       "      <td>出行</td>\n",
       "      <td>工作日</td>\n",
       "      <td>99.43</td>\n",
       "      <td>121.467201</td>\n",
       "      <td>31.235452</td>\n",
       "    </tr>\n",
       "  </tbody>\n",
       "</table>\n",
       "</div>"
      ],
      "text/plain": [
       "   PersonID  HomeID W_XZ STREET  age  gender  edu  job  income Pcharacter  \\\n",
       "0         1       1  青浦区    NaN   46       1    3    5       3     1.户籍人口   \n",
       "1         2       1  青浦区    NaN   43       2    3    4       3     1.户籍人口   \n",
       "2         3       2  青浦区    1盈浦   46       1    3   11       2     1.户籍人口   \n",
       "3         4       2  青浦区    漕盈路   46       2    3   11       2     1.户籍人口   \n",
       "4         5       2  青浦区     漕盈   23       2    5    2       2     1.户籍人口   \n",
       "\n",
       "  iftrip ifworkday  Pweight      UNIT_X     UNIT_Y  \n",
       "0     出行       工作日    89.22  121.020038  30.976588  \n",
       "1     出行       工作日    72.74  121.020038  30.976588  \n",
       "2     出行       工作日   235.11  121.467201  31.235452  \n",
       "3     出行       工作日   179.28  121.467201  31.235452  \n",
       "4     出行       工作日    99.43  121.467201  31.235452  "
      ]
     },
     "execution_count": 3,
     "metadata": {},
     "output_type": "execute_result"
    }
   ],
   "source": [
    "personSH.head()"
   ]
  },
  {
   "cell_type": "code",
   "execution_count": 4,
   "metadata": {
    "collapsed": true
   },
   "outputs": [],
   "source": [
    "def time_string_format(t):\n",
    "    # 将travel中time转换为时间格式\n",
    "    hm = t.zfill(4)\n",
    "    hms = hm[:2] + ':' + hm[2:] + ':00'\n",
    "    return hms"
   ]
  },
  {
   "cell_type": "code",
   "execution_count": 5,
   "metadata": {
    "collapsed": true
   },
   "outputs": [],
   "source": [
    "# trip purpose: 1.上班 2.上学 3.购物 4.文化娱乐 5.业务 6.接送人 7.回家8.其它生活\n",
    "tripSH_cols = ['HomeID','PersonID','Stime','Etime','Tpurpose','Tduration','Tmode','Tweight','FROM_X','FROM_Y','TO_X','TO_Y']\n",
    "tripSH = pd.read_csv('./trip.csv',usecols=tripSH_cols,dtype={'Stime':str,'Etime':str,'Tpurpose':str})\n",
    "tripSH['Stime'] = tripSH['Stime'].apply(lambda x: time_string_format(x))\n",
    "tripSH['Etime'] = tripSH['Etime'].apply(lambda x: time_string_format(x))\n",
    "tripSH.sort_values(['HomeID','PersonID','Stime'],inplace=True)\n",
    "\n",
    "# 本次出行的目的:1.上班 2.上学 3.购物 4.文化娱乐 5.业务 6.接送人 7.回家8.其它生活\n",
    "# modes = {'1':'Work', '2':'School', '3':'Shop', '4':'Entertain', '5':'Business', '6':'Take', '7':'Home', '8':'Other'}\n",
    "modes = {'1':'W', '2':'L', '3':'S', '4':'E', '5':'B', '6':'T', '7':'H', '8':'O'}\n",
    "tripSH.Tpurpose = tripSH.Tpurpose.map(modes)"
   ]
  },
  {
   "cell_type": "code",
   "execution_count": 6,
   "metadata": {},
   "outputs": [
    {
     "data": {
      "text/html": [
       "<div>\n",
       "<style scoped>\n",
       "    .dataframe tbody tr th:only-of-type {\n",
       "        vertical-align: middle;\n",
       "    }\n",
       "\n",
       "    .dataframe tbody tr th {\n",
       "        vertical-align: top;\n",
       "    }\n",
       "\n",
       "    .dataframe thead th {\n",
       "        text-align: right;\n",
       "    }\n",
       "</style>\n",
       "<table border=\"1\" class=\"dataframe\">\n",
       "  <thead>\n",
       "    <tr style=\"text-align: right;\">\n",
       "      <th></th>\n",
       "      <th>PersonID</th>\n",
       "      <th>HomeID</th>\n",
       "      <th>Stime</th>\n",
       "      <th>Etime</th>\n",
       "      <th>Tpurpose</th>\n",
       "      <th>Tmode</th>\n",
       "      <th>Tduration</th>\n",
       "      <th>Tweight</th>\n",
       "      <th>FROM_X</th>\n",
       "      <th>FROM_Y</th>\n",
       "      <th>TO_X</th>\n",
       "      <th>TO_Y</th>\n",
       "    </tr>\n",
       "  </thead>\n",
       "  <tbody>\n",
       "    <tr>\n",
       "      <th>0</th>\n",
       "      <td>1</td>\n",
       "      <td>1</td>\n",
       "      <td>07:50:00</td>\n",
       "      <td>08:00:00</td>\n",
       "      <td>W</td>\n",
       "      <td>3.摩托车</td>\n",
       "      <td>10</td>\n",
       "      <td>376.68</td>\n",
       "      <td>121.467201</td>\n",
       "      <td>31.235452</td>\n",
       "      <td>121.020038</td>\n",
       "      <td>30.976588</td>\n",
       "    </tr>\n",
       "    <tr>\n",
       "      <th>1</th>\n",
       "      <td>1</td>\n",
       "      <td>1</td>\n",
       "      <td>11:00:00</td>\n",
       "      <td>11:10:00</td>\n",
       "      <td>H</td>\n",
       "      <td>3.摩托车</td>\n",
       "      <td>10</td>\n",
       "      <td>376.68</td>\n",
       "      <td>121.020038</td>\n",
       "      <td>30.976588</td>\n",
       "      <td>121.467201</td>\n",
       "      <td>31.235452</td>\n",
       "    </tr>\n",
       "    <tr>\n",
       "      <th>2</th>\n",
       "      <td>1</td>\n",
       "      <td>1</td>\n",
       "      <td>12:50:00</td>\n",
       "      <td>13:00:00</td>\n",
       "      <td>W</td>\n",
       "      <td>3.摩托车</td>\n",
       "      <td>10</td>\n",
       "      <td>376.68</td>\n",
       "      <td>121.467201</td>\n",
       "      <td>31.235452</td>\n",
       "      <td>121.020038</td>\n",
       "      <td>30.976588</td>\n",
       "    </tr>\n",
       "    <tr>\n",
       "      <th>3</th>\n",
       "      <td>1</td>\n",
       "      <td>1</td>\n",
       "      <td>15:30:00</td>\n",
       "      <td>15:40:00</td>\n",
       "      <td>H</td>\n",
       "      <td>3.摩托车</td>\n",
       "      <td>10</td>\n",
       "      <td>376.68</td>\n",
       "      <td>121.020038</td>\n",
       "      <td>30.976588</td>\n",
       "      <td>121.467201</td>\n",
       "      <td>31.235452</td>\n",
       "    </tr>\n",
       "    <tr>\n",
       "      <th>4</th>\n",
       "      <td>2</td>\n",
       "      <td>1</td>\n",
       "      <td>07:00:00</td>\n",
       "      <td>07:15:00</td>\n",
       "      <td>W</td>\n",
       "      <td>1.自行车</td>\n",
       "      <td>15</td>\n",
       "      <td>43.36</td>\n",
       "      <td>121.467201</td>\n",
       "      <td>31.235452</td>\n",
       "      <td>121.020038</td>\n",
       "      <td>30.976588</td>\n",
       "    </tr>\n",
       "  </tbody>\n",
       "</table>\n",
       "</div>"
      ],
      "text/plain": [
       "   PersonID  HomeID     Stime     Etime Tpurpose  Tmode  Tduration  Tweight  \\\n",
       "0         1       1  07:50:00  08:00:00        W  3.摩托车         10   376.68   \n",
       "1         1       1  11:00:00  11:10:00        H  3.摩托车         10   376.68   \n",
       "2         1       1  12:50:00  13:00:00        W  3.摩托车         10   376.68   \n",
       "3         1       1  15:30:00  15:40:00        H  3.摩托车         10   376.68   \n",
       "4         2       1  07:00:00  07:15:00        W  1.自行车         15    43.36   \n",
       "\n",
       "       FROM_X     FROM_Y        TO_X       TO_Y  \n",
       "0  121.467201  31.235452  121.020038  30.976588  \n",
       "1  121.020038  30.976588  121.467201  31.235452  \n",
       "2  121.467201  31.235452  121.020038  30.976588  \n",
       "3  121.020038  30.976588  121.467201  31.235452  \n",
       "4  121.467201  31.235452  121.020038  30.976588  "
      ]
     },
     "execution_count": 6,
     "metadata": {},
     "output_type": "execute_result"
    }
   ],
   "source": [
    "tripSH.head()"
   ]
  },
  {
   "cell_type": "code",
   "execution_count": 7,
   "metadata": {
    "collapsed": true
   },
   "outputs": [],
   "source": [
    "# 出行转换为停驻，已经得到计算结果，直接打开\n",
    "stopSH = pd.read_csv('./stay.csv')\n",
    "stopSH['Shour'] = stopSH.Stime.apply(lambda x: int(x[:2]))\n",
    "stopSH['Ehour'] = stopSH.Etime.apply(lambda x: int(x[:2]))\n",
    "\n",
    "# 数据中存在error，简单剔除,建立新的数据stop\n",
    "stopSH = stopSH[(stopSH.Shour<24) & (stopSH.Ehour<24)]\n",
    "stopSH.reset_index(drop=True,inplace=True)\n",
    "\n",
    "# 活动设置为：H, W, O\n",
    "stopSH['activity'] = stopSH.activity.apply(lambda x: 'O' if x not in ['H','W'] else x)"
   ]
  },
  {
   "cell_type": "code",
   "execution_count": 8,
   "metadata": {},
   "outputs": [
    {
     "data": {
      "text/html": [
       "<div>\n",
       "<style scoped>\n",
       "    .dataframe tbody tr th:only-of-type {\n",
       "        vertical-align: middle;\n",
       "    }\n",
       "\n",
       "    .dataframe tbody tr th {\n",
       "        vertical-align: top;\n",
       "    }\n",
       "\n",
       "    .dataframe thead th {\n",
       "        text-align: right;\n",
       "    }\n",
       "</style>\n",
       "<table border=\"1\" class=\"dataframe\">\n",
       "  <thead>\n",
       "    <tr style=\"text-align: right;\">\n",
       "      <th></th>\n",
       "      <th>HomeID</th>\n",
       "      <th>PersonID</th>\n",
       "      <th>Stime</th>\n",
       "      <th>Etime</th>\n",
       "      <th>Slon</th>\n",
       "      <th>Slat</th>\n",
       "      <th>activity</th>\n",
       "      <th>ifworkday</th>\n",
       "      <th>Shour</th>\n",
       "      <th>Ehour</th>\n",
       "    </tr>\n",
       "  </thead>\n",
       "  <tbody>\n",
       "    <tr>\n",
       "      <th>0</th>\n",
       "      <td>1</td>\n",
       "      <td>1</td>\n",
       "      <td>00:00:00</td>\n",
       "      <td>07:50:00</td>\n",
       "      <td>121.467201</td>\n",
       "      <td>31.235452</td>\n",
       "      <td>H</td>\n",
       "      <td>工作日</td>\n",
       "      <td>0</td>\n",
       "      <td>7</td>\n",
       "    </tr>\n",
       "    <tr>\n",
       "      <th>1</th>\n",
       "      <td>1</td>\n",
       "      <td>1</td>\n",
       "      <td>08:00:00</td>\n",
       "      <td>11:00:00</td>\n",
       "      <td>121.020038</td>\n",
       "      <td>30.976588</td>\n",
       "      <td>W</td>\n",
       "      <td>工作日</td>\n",
       "      <td>8</td>\n",
       "      <td>11</td>\n",
       "    </tr>\n",
       "    <tr>\n",
       "      <th>2</th>\n",
       "      <td>1</td>\n",
       "      <td>1</td>\n",
       "      <td>11:10:00</td>\n",
       "      <td>12:50:00</td>\n",
       "      <td>121.467201</td>\n",
       "      <td>31.235452</td>\n",
       "      <td>H</td>\n",
       "      <td>工作日</td>\n",
       "      <td>11</td>\n",
       "      <td>12</td>\n",
       "    </tr>\n",
       "    <tr>\n",
       "      <th>3</th>\n",
       "      <td>1</td>\n",
       "      <td>1</td>\n",
       "      <td>13:00:00</td>\n",
       "      <td>15:30:00</td>\n",
       "      <td>121.020038</td>\n",
       "      <td>30.976588</td>\n",
       "      <td>W</td>\n",
       "      <td>工作日</td>\n",
       "      <td>13</td>\n",
       "      <td>15</td>\n",
       "    </tr>\n",
       "    <tr>\n",
       "      <th>4</th>\n",
       "      <td>1</td>\n",
       "      <td>1</td>\n",
       "      <td>15:40:00</td>\n",
       "      <td>23:59:59</td>\n",
       "      <td>121.467201</td>\n",
       "      <td>31.235452</td>\n",
       "      <td>H</td>\n",
       "      <td>工作日</td>\n",
       "      <td>15</td>\n",
       "      <td>23</td>\n",
       "    </tr>\n",
       "  </tbody>\n",
       "</table>\n",
       "</div>"
      ],
      "text/plain": [
       "   HomeID  PersonID     Stime     Etime        Slon       Slat activity  \\\n",
       "0       1         1  00:00:00  07:50:00  121.467201  31.235452        H   \n",
       "1       1         1  08:00:00  11:00:00  121.020038  30.976588        W   \n",
       "2       1         1  11:10:00  12:50:00  121.467201  31.235452        H   \n",
       "3       1         1  13:00:00  15:30:00  121.020038  30.976588        W   \n",
       "4       1         1  15:40:00  23:59:59  121.467201  31.235452        H   \n",
       "\n",
       "  ifworkday  Shour  Ehour  \n",
       "0       工作日      0      7  \n",
       "1       工作日      8     11  \n",
       "2       工作日     11     12  \n",
       "3       工作日     13     15  \n",
       "4       工作日     15     23  "
      ]
     },
     "execution_count": 8,
     "metadata": {},
     "output_type": "execute_result"
    }
   ],
   "source": [
    "stopSH.head()"
   ]
  },
  {
   "cell_type": "code",
   "execution_count": 9,
   "metadata": {
    "collapsed": true
   },
   "outputs": [],
   "source": [
    "# week: 调查星期\n",
    "familySH_cols = ['HomeID','H_XZ','H_JD','HomeCoor_X','HomeCoor_Y','week','Pnum','n_bike','n_ebike','n_moto','n_pcar','n_wcar','ifworkday']\n",
    "familySH = pd.read_csv('./family.csv',usecols=familySH_cols)\n",
    "familySH.sort_values('HomeID',inplace=True)"
   ]
  },
  {
   "cell_type": "code",
   "execution_count": 10,
   "metadata": {},
   "outputs": [
    {
     "data": {
      "text/html": [
       "<div>\n",
       "<style scoped>\n",
       "    .dataframe tbody tr th:only-of-type {\n",
       "        vertical-align: middle;\n",
       "    }\n",
       "\n",
       "    .dataframe tbody tr th {\n",
       "        vertical-align: top;\n",
       "    }\n",
       "\n",
       "    .dataframe thead th {\n",
       "        text-align: right;\n",
       "    }\n",
       "</style>\n",
       "<table border=\"1\" class=\"dataframe\">\n",
       "  <thead>\n",
       "    <tr style=\"text-align: right;\">\n",
       "      <th></th>\n",
       "      <th>HomeID</th>\n",
       "      <th>H_XZ</th>\n",
       "      <th>H_JD</th>\n",
       "      <th>HomeCoor_X</th>\n",
       "      <th>HomeCoor_Y</th>\n",
       "      <th>week</th>\n",
       "      <th>Pnum</th>\n",
       "      <th>n_bike</th>\n",
       "      <th>n_ebike</th>\n",
       "      <th>n_moto</th>\n",
       "      <th>n_pcar</th>\n",
       "      <th>n_wcar</th>\n",
       "      <th>ifworkday</th>\n",
       "    </tr>\n",
       "  </thead>\n",
       "  <tbody>\n",
       "    <tr>\n",
       "      <th>0</th>\n",
       "      <td>1</td>\n",
       "      <td>青浦区</td>\n",
       "      <td>练塘镇</td>\n",
       "      <td>121.467201</td>\n",
       "      <td>31.235452</td>\n",
       "      <td>5</td>\n",
       "      <td>2</td>\n",
       "      <td>1</td>\n",
       "      <td>0</td>\n",
       "      <td>2</td>\n",
       "      <td>0</td>\n",
       "      <td>0</td>\n",
       "      <td>1.工作日</td>\n",
       "    </tr>\n",
       "    <tr>\n",
       "      <th>1</th>\n",
       "      <td>2</td>\n",
       "      <td>青浦区</td>\n",
       "      <td>盈浦街道</td>\n",
       "      <td>121.467201</td>\n",
       "      <td>31.235452</td>\n",
       "      <td>5</td>\n",
       "      <td>3</td>\n",
       "      <td>0</td>\n",
       "      <td>2</td>\n",
       "      <td>1</td>\n",
       "      <td>0</td>\n",
       "      <td>0</td>\n",
       "      <td>1.工作日</td>\n",
       "    </tr>\n",
       "    <tr>\n",
       "      <th>2</th>\n",
       "      <td>3</td>\n",
       "      <td>青浦区</td>\n",
       "      <td>练塘镇</td>\n",
       "      <td>121.021624</td>\n",
       "      <td>30.956375</td>\n",
       "      <td>5</td>\n",
       "      <td>1</td>\n",
       "      <td>0</td>\n",
       "      <td>1</td>\n",
       "      <td>0</td>\n",
       "      <td>0</td>\n",
       "      <td>0</td>\n",
       "      <td>1.工作日</td>\n",
       "    </tr>\n",
       "    <tr>\n",
       "      <th>3</th>\n",
       "      <td>4</td>\n",
       "      <td>青浦区</td>\n",
       "      <td>赵巷镇</td>\n",
       "      <td>121.122011</td>\n",
       "      <td>31.146839</td>\n",
       "      <td>5</td>\n",
       "      <td>5</td>\n",
       "      <td>1</td>\n",
       "      <td>1</td>\n",
       "      <td>0</td>\n",
       "      <td>1</td>\n",
       "      <td>1</td>\n",
       "      <td>1.工作日</td>\n",
       "    </tr>\n",
       "    <tr>\n",
       "      <th>4</th>\n",
       "      <td>5</td>\n",
       "      <td>青浦区</td>\n",
       "      <td>盈浦街道</td>\n",
       "      <td>121.103262</td>\n",
       "      <td>31.159090</td>\n",
       "      <td>6</td>\n",
       "      <td>3</td>\n",
       "      <td>1</td>\n",
       "      <td>1</td>\n",
       "      <td>0</td>\n",
       "      <td>0</td>\n",
       "      <td>0</td>\n",
       "      <td>2.双休日</td>\n",
       "    </tr>\n",
       "  </tbody>\n",
       "</table>\n",
       "</div>"
      ],
      "text/plain": [
       "   HomeID H_XZ  H_JD  HomeCoor_X  HomeCoor_Y  week  Pnum  n_bike  n_ebike  \\\n",
       "0       1  青浦区   练塘镇  121.467201   31.235452     5     2       1        0   \n",
       "1       2  青浦区  盈浦街道  121.467201   31.235452     5     3       0        2   \n",
       "2       3  青浦区   练塘镇  121.021624   30.956375     5     1       0        1   \n",
       "3       4  青浦区   赵巷镇  121.122011   31.146839     5     5       1        1   \n",
       "4       5  青浦区  盈浦街道  121.103262   31.159090     6     3       1        1   \n",
       "\n",
       "   n_moto  n_pcar  n_wcar ifworkday  \n",
       "0       2       0       0     1.工作日  \n",
       "1       1       0       0     1.工作日  \n",
       "2       0       0       0     1.工作日  \n",
       "3       0       1       1     1.工作日  \n",
       "4       0       0       0     2.双休日  "
      ]
     },
     "execution_count": 10,
     "metadata": {},
     "output_type": "execute_result"
    }
   ],
   "source": [
    "familySH.head()"
   ]
  },
  {
   "cell_type": "code",
   "execution_count": 11,
   "metadata": {},
   "outputs": [
    {
     "name": "stdout",
     "output_type": "stream",
     "text": [
      "上海居民调查\t家庭数：60032,\t用户数：139195,\t出行数：266043\n"
     ]
    }
   ],
   "source": [
    "# 上海居民调查数据统计\n",
    "print('上海居民调查\\t家庭数：{},\\t用户数：{},\\t出行数：{}'.format(familySH.HomeID.nunique(),personSH.PersonID.nunique(),tripSH.__len__()))"
   ]
  },
  {
   "cell_type": "code",
   "execution_count": 12,
   "metadata": {
    "collapsed": true
   },
   "outputs": [],
   "source": [
    "# 上海市16个区的人口,根据《上海2018年统计年鉴》,单位：万人\n",
    "pop_sh = pd.DataFrame(\\\n",
    "[['浦东新区',552.84],\\\n",
    "['黄浦区',65.48],\\\n",
    "['徐汇区',108.83],\\\n",
    "['长宁区',69.37],\\\n",
    "['静安区',106.62],\\\n",
    "['普陀区',128.47],\\\n",
    "['虹口区',79.90],\\\n",
    "['杨浦区',131.34],\\\n",
    "['闵行区',253.43],\\\n",
    "['宝山区',203.08],\\\n",
    "['嘉定区',158.18],\\\n",
    "['金山区',80.14],\\\n",
    "['松江区',175.13],\\\n",
    "['青浦区',120.53],\\\n",
    "['奉贤区',115.53],\\\n",
    "['崇明区',69.46]],columns=['County','population'])"
   ]
  },
  {
   "cell_type": "code",
   "execution_count": 13,
   "metadata": {},
   "outputs": [
    {
     "name": "stderr",
     "output_type": "stream",
     "text": [
      "E:\\Anaconda3-5.0.1\\lib\\site-packages\\pandas\\core\\generic.py:5096: SettingWithCopyWarning: \n",
      "A value is trying to be set on a copy of a slice from a DataFrame.\n",
      "Try using .loc[row_indexer,col_indexer] = value instead\n",
      "\n",
      "See the caveats in the documentation: http://pandas.pydata.org/pandas-docs/stable/indexing.html#indexing-view-versus-copy\n",
      "  self[name] = value\n"
     ]
    }
   ],
   "source": [
    "# 上海居民居住与工作位置\n",
    "hwSHO = pd.merge(personSH[['PersonID','HomeID','W_XZ','STREET']],familySH[['HomeID','H_XZ','H_JD']],on='HomeID') # original\n",
    "hwSHO = hwSHO[hwSHO.W_XZ != '0']\n",
    "hwSH = hwSHO.copy()\n",
    "\n",
    "\n",
    "# 错误信息修正\n",
    "hwSH.W_XZ = hwSH.W_XZ.astype(str)\n",
    "hwSH.W_XZ = hwSH.W_XZ.apply(lambda x: x[1:] if x[0]=='1' else x)   # 错误1：修正带有1的名称\n",
    "\n",
    "workplaceSH = hwSH.groupby('W_XZ')\n",
    "hwSH = workplaceSH.filter(lambda x: len(x)>10)   # 错误2：字符不全、或错误的地点，因为量小，用10过滤掉\n",
    "\n",
    "def validate_county(c):\n",
    "    if   c == '南汇区': s = '浦东新区'\n",
    "    elif c == '卢湾区': s = '黄浦区'\n",
    "    elif c == '闸北区': s = '静安区'\n",
    "    elif c == '崇明县': s = '崇明区'\n",
    "    else: s = c\n",
    "    return s\n",
    "hwSH.W_XZ = hwSH.W_XZ.apply(lambda x: validate_county(x))    # 错误3：行政区变化\n",
    "hwSH.H_XZ = hwSH.H_XZ.apply(lambda x: validate_county(x))"
   ]
  },
  {
   "cell_type": "code",
   "execution_count": 14,
   "metadata": {},
   "outputs": [
    {
     "data": {
      "text/plain": [
       "<matplotlib.axes._subplots.AxesSubplot at 0x1352d9b0>"
      ]
     },
     "execution_count": 14,
     "metadata": {},
     "output_type": "execute_result"
    },
    {
     "data": {
      "image/png": "[encoded data removed]",
      "text/plain": [
       "<matplotlib.figure.Figure at 0xcfe15c0>"
      ]
     },
     "metadata": {},
     "output_type": "display_data"
    }
   ],
   "source": [
    "# 统计绘图\n",
    "fig, ax = plt.subplots(2,2,figsize=(15,10))\n",
    "plt.subplots_adjust(hspace=1)\n",
    "plt.subplot(2,2,1)\n",
    "hwSHOW = hwSHO.groupby('W_XZ').PersonID.count()\n",
    "hwSHOW[hwSHOW > 20].plot(kind='bar',figsize=(15,5),fontsize=14,color='b',title='原始工作地点名称统计')\n",
    "plt.subplot(2,2,2)\n",
    "hwSHO.groupby('H_XZ').PersonID.count().plot(kind='bar',figsize=(15,5),fontsize=14,color='b',title='原始居住地点名称统计')\n",
    "plt.subplot(2,2,3)\n",
    "hwSH.groupby('W_XZ').PersonID.count().plot(kind='bar',figsize=(15,5),fontsize=14,color='b',title='合并后工作地点名称统计')\n",
    "plt.subplot(2,2,4)\n",
    "hwSH.groupby('H_XZ').PersonID.count().plot(kind='bar',figsize=(15,5),fontsize=14,color='b',title='合并后居住地点名称统计')"
   ]
  },
  {
   "cell_type": "code",
   "execution_count": 15,
   "metadata": {
    "collapsed": true
   },
   "outputs": [],
   "source": [
    "# 职住统计\n",
    "hwSH_cnt = hwSH.groupby(['H_XZ','W_XZ']).PersonID.count().reset_index()\n",
    "hwSH_cnt.rename(columns={'PersonID':'cnt'},inplace=True)\n",
    "\n",
    "# 扩样\n",
    "expandSH = hwSH_cnt.groupby('H_XZ').cnt.sum().reset_index()\n",
    "expandSH = pd.merge(expandSH, pop_sh, left_on='H_XZ',right_on='County')\n",
    "expandSH['factor'] = expandSH.population / expandSH.cnt * 10000   # 扩样因子\n",
    "\n",
    "hwSH_ncnt = pd.merge(hwSH_cnt,expandSH[['H_XZ','factor']], on='H_XZ')\n",
    "hwSH_ncnt['new_cnt'] = hwSH_ncnt.cnt * hwSH_ncnt.factor\n",
    "\n",
    "# hwSH_ncnt.to_csv('./shanghai_homework_county_byxz.csv',index=False,encoding='gb2312')"
   ]
  },
  {
   "cell_type": "markdown",
   "metadata": {},
   "source": [
    "#### 乡镇职住统计"
   ]
  },
  {
   "cell_type": "code",
   "execution_count": 16,
   "metadata": {
    "collapsed": true
   },
   "outputs": [],
   "source": [
    "grid = gpd.read_file('E:\\\\zy城市群数据分析\\\\0栅格数据\\\\栅格-乡镇对应\\\\grid_new.shp')"
   ]
  },
  {
   "cell_type": "code",
   "execution_count": 17,
   "metadata": {},
   "outputs": [
    {
     "data": {
      "text/html": [
       "<div>\n",
       "<style scoped>\n",
       "    .dataframe tbody tr th:only-of-type {\n",
       "        vertical-align: middle;\n",
       "    }\n",
       "\n",
       "    .dataframe tbody tr th {\n",
       "        vertical-align: top;\n",
       "    }\n",
       "\n",
       "    .dataframe thead th {\n",
       "        text-align: right;\n",
       "    }\n",
       "</style>\n",
       "<table border=\"1\" class=\"dataframe\">\n",
       "  <thead>\n",
       "    <tr style=\"text-align: right;\">\n",
       "      <th></th>\n",
       "      <th>id</th>\n",
       "      <th>LONCOL</th>\n",
       "      <th>LATCOL</th>\n",
       "      <th>HBLON</th>\n",
       "      <th>HBLAT</th>\n",
       "      <th>name</th>\n",
       "      <th>County</th>\n",
       "      <th>City</th>\n",
       "      <th>Province</th>\n",
       "      <th>GridRing</th>\n",
       "      <th>TownRing</th>\n",
       "      <th>geometry</th>\n",
       "    </tr>\n",
       "  </thead>\n",
       "  <tbody>\n",
       "    <tr>\n",
       "      <th>0</th>\n",
       "      <td>0</td>\n",
       "      <td>0</td>\n",
       "      <td>281</td>\n",
       "      <td>118.357348</td>\n",
       "      <td>31.931298</td>\n",
       "      <td>星甸街道</td>\n",
       "      <td>浦口区</td>\n",
       "      <td>南京市</td>\n",
       "      <td>江苏省</td>\n",
       "      <td>0</td>\n",
       "      <td>0</td>\n",
       "      <td>POLYGON ((118.36 31.92904945779842, 118.354695...</td>\n",
       "    </tr>\n",
       "    <tr>\n",
       "      <th>1</th>\n",
       "      <td>1</td>\n",
       "      <td>0</td>\n",
       "      <td>282</td>\n",
       "      <td>118.357348</td>\n",
       "      <td>31.935794</td>\n",
       "      <td>星甸街道</td>\n",
       "      <td>浦口区</td>\n",
       "      <td>南京市</td>\n",
       "      <td>江苏省</td>\n",
       "      <td>0</td>\n",
       "      <td>0</td>\n",
       "      <td>POLYGON ((118.36 31.93354606300484, 118.354695...</td>\n",
       "    </tr>\n",
       "    <tr>\n",
       "      <th>2</th>\n",
       "      <td>2</td>\n",
       "      <td>0</td>\n",
       "      <td>283</td>\n",
       "      <td>118.357348</td>\n",
       "      <td>31.940291</td>\n",
       "      <td>星甸街道</td>\n",
       "      <td>浦口区</td>\n",
       "      <td>南京市</td>\n",
       "      <td>江苏省</td>\n",
       "      <td>0</td>\n",
       "      <td>0</td>\n",
       "      <td>POLYGON ((118.36 31.93804266821126, 118.354695...</td>\n",
       "    </tr>\n",
       "    <tr>\n",
       "      <th>3</th>\n",
       "      <td>3</td>\n",
       "      <td>1</td>\n",
       "      <td>281</td>\n",
       "      <td>118.362652</td>\n",
       "      <td>31.931298</td>\n",
       "      <td>星甸街道</td>\n",
       "      <td>浦口区</td>\n",
       "      <td>南京市</td>\n",
       "      <td>江苏省</td>\n",
       "      <td>0</td>\n",
       "      <td>0</td>\n",
       "      <td>POLYGON ((118.3653043927706 31.92904945779842,...</td>\n",
       "    </tr>\n",
       "    <tr>\n",
       "      <th>4</th>\n",
       "      <td>4</td>\n",
       "      <td>1</td>\n",
       "      <td>282</td>\n",
       "      <td>118.362652</td>\n",
       "      <td>31.935794</td>\n",
       "      <td>星甸街道</td>\n",
       "      <td>浦口区</td>\n",
       "      <td>南京市</td>\n",
       "      <td>江苏省</td>\n",
       "      <td>0</td>\n",
       "      <td>0</td>\n",
       "      <td>POLYGON ((118.3653043927706 31.93354606300484,...</td>\n",
       "    </tr>\n",
       "  </tbody>\n",
       "</table>\n",
       "</div>"
      ],
      "text/plain": [
       "   id  LONCOL  LATCOL       HBLON      HBLAT  name County City Province  \\\n",
       "0   0       0     281  118.357348  31.931298  星甸街道    浦口区  南京市      江苏省   \n",
       "1   1       0     282  118.357348  31.935794  星甸街道    浦口区  南京市      江苏省   \n",
       "2   2       0     283  118.357348  31.940291  星甸街道    浦口区  南京市      江苏省   \n",
       "3   3       1     281  118.362652  31.931298  星甸街道    浦口区  南京市      江苏省   \n",
       "4   4       1     282  118.362652  31.935794  星甸街道    浦口区  南京市      江苏省   \n",
       "\n",
       "   GridRing  TownRing                                           geometry  \n",
       "0         0         0  POLYGON ((118.36 31.92904945779842, 118.354695...  \n",
       "1         0         0  POLYGON ((118.36 31.93354606300484, 118.354695...  \n",
       "2         0         0  POLYGON ((118.36 31.93804266821126, 118.354695...  \n",
       "3         0         0  POLYGON ((118.3653043927706 31.92904945779842,...  \n",
       "4         0         0  POLYGON ((118.3653043927706 31.93354606300484,...  "
      ]
     },
     "execution_count": 17,
     "metadata": {},
     "output_type": "execute_result"
    }
   ],
   "source": [
    "grid.head()"
   ]
  },
  {
   "cell_type": "code",
   "execution_count": 20,
   "metadata": {
    "collapsed": true
   },
   "outputs": [],
   "source": [
    "hw_sh = tripSH.loc[tripSH.Tpurpose.isin(['W','H']),['PersonID','HomeID','Tpurpose','TO_X','TO_Y']].dropna()\n",
    "hw_sh['loncol'] = hw_sh.TO_X.apply(lambda x: int((x-(118.36 - 0.005304 / 2))/0.005304))\n",
    "hw_sh['latcol'] = hw_sh.TO_Y.apply(lambda y: int((y-(30.67 - 0.0044966 / 2))/ 0.0044966))\n",
    "# hw_sh['loc'] = hw_sh.loncol.astype(str) + '|' + hw_sh.latcol.astype(str)"
   ]
  },
  {
   "cell_type": "code",
   "execution_count": 22,
   "metadata": {
    "collapsed": true
   },
   "outputs": [],
   "source": [
    "home_sh = hw_sh[hw_sh.Tpurpose == 'H']\n",
    "home_sh = home_sh[['PersonID','loncol','latcol']].groupby('PersonID').agg(lambda x: x.value_counts().index[0])"
   ]
  },
  {
   "cell_type": "code",
   "execution_count": 23,
   "metadata": {},
   "outputs": [],
   "source": [
    "work_sh = hw_sh[hw_sh.Tpurpose == 'W']\n",
    "work_sh = work_sh[['PersonID','loncol','latcol']].groupby('PersonID').agg(lambda x: x.value_counts().index[0])\n",
    "\n",
    "hwsh_grid = pd.merge(home_sh,work_sh,left_index=True,right_index=True,how='inner',suffixes=['_h','_w'])"
   ]
  },
  {
   "cell_type": "code",
   "execution_count": 24,
   "metadata": {},
   "outputs": [
    {
     "data": {
      "text/html": [
       "<div>\n",
       "<style scoped>\n",
       "    .dataframe tbody tr th:only-of-type {\n",
       "        vertical-align: middle;\n",
       "    }\n",
       "\n",
       "    .dataframe tbody tr th {\n",
       "        vertical-align: top;\n",
       "    }\n",
       "\n",
       "    .dataframe thead th {\n",
       "        text-align: right;\n",
       "    }\n",
       "</style>\n",
       "<table border=\"1\" class=\"dataframe\">\n",
       "  <thead>\n",
       "    <tr style=\"text-align: right;\">\n",
       "      <th></th>\n",
       "      <th>loncol_h</th>\n",
       "      <th>latcol_h</th>\n",
       "      <th>loncol_w</th>\n",
       "      <th>latcol_w</th>\n",
       "    </tr>\n",
       "    <tr>\n",
       "      <th>PersonID</th>\n",
       "      <th></th>\n",
       "      <th></th>\n",
       "      <th></th>\n",
       "      <th></th>\n",
       "    </tr>\n",
       "  </thead>\n",
       "  <tbody>\n",
       "    <tr>\n",
       "      <th>1</th>\n",
       "      <td>586</td>\n",
       "      <td>126</td>\n",
       "      <td>502</td>\n",
       "      <td>68</td>\n",
       "    </tr>\n",
       "    <tr>\n",
       "      <th>2</th>\n",
       "      <td>586</td>\n",
       "      <td>126</td>\n",
       "      <td>502</td>\n",
       "      <td>68</td>\n",
       "    </tr>\n",
       "    <tr>\n",
       "      <th>7</th>\n",
       "      <td>521</td>\n",
       "      <td>106</td>\n",
       "      <td>537</td>\n",
       "      <td>107</td>\n",
       "    </tr>\n",
       "    <tr>\n",
       "      <th>10</th>\n",
       "      <td>521</td>\n",
       "      <td>106</td>\n",
       "      <td>534</td>\n",
       "      <td>107</td>\n",
       "    </tr>\n",
       "    <tr>\n",
       "      <th>13</th>\n",
       "      <td>586</td>\n",
       "      <td>126</td>\n",
       "      <td>508</td>\n",
       "      <td>74</td>\n",
       "    </tr>\n",
       "  </tbody>\n",
       "</table>\n",
       "</div>"
      ],
      "text/plain": [
       "          loncol_h  latcol_h  loncol_w  latcol_w\n",
       "PersonID                                        \n",
       "1              586       126       502        68\n",
       "2              586       126       502        68\n",
       "7              521       106       537       107\n",
       "10             521       106       534       107\n",
       "13             586       126       508        74"
      ]
     },
     "execution_count": 24,
     "metadata": {},
     "output_type": "execute_result"
    }
   ],
   "source": [
    "hwsh_grid.head()"
   ]
  },
  {
   "cell_type": "markdown",
   "metadata": {},
   "source": [
    "#### 按区县人口扩样"
   ]
  },
  {
   "cell_type": "code",
   "execution_count": 25,
   "metadata": {
    "collapsed": true
   },
   "outputs": [],
   "source": [
    "hwsh_temp = pd.merge(hwsh_grid,grid[['LONCOL','LATCOL','County']],\\\n",
    "                     left_on=['loncol_h','latcol_h'],right_on=['LONCOL','LATCOL'],suffixes=['','_h'],how='inner')\n",
    "hwsh_county = pd.merge(hwsh_temp,grid[['LONCOL','LATCOL','County']],\\\n",
    "                     left_on=['loncol_w','latcol_w'],right_on=['LONCOL','LATCOL'],suffixes=['_h','_w'],how='inner')\n",
    "\n",
    "hwsh_county_cnt = hwsh_county.groupby(['County_h','County_w']).loncol_h.count().reset_index()\n",
    "hwsh_county_cnt.rename(columns={'loncol_h':'cnt'},inplace=True)\n",
    "\n",
    "# 扩样\n",
    "county_pop = hwsh_county_cnt.groupby('County_h').cnt.sum().reset_index()\n",
    "\n",
    "county_expand = pd.merge(county_pop,pop_sh,left_on='County_h',right_on='County')\n",
    "county_expand['factor'] = county_expand.population / county_expand.cnt * 10000\n",
    "\n",
    "hwsh_county_res = pd.merge(hwsh_county_cnt,county_expand[['County_h','factor']],on='County_h')\n",
    "hwsh_county_res['expandcnt'] = hwsh_county_res.cnt * hwsh_county_res.factor"
   ]
  },
  {
   "cell_type": "code",
   "execution_count": 26,
   "metadata": {},
   "outputs": [
    {
     "data": {
      "text/html": [
       "<div>\n",
       "<style scoped>\n",
       "    .dataframe tbody tr th:only-of-type {\n",
       "        vertical-align: middle;\n",
       "    }\n",
       "\n",
       "    .dataframe tbody tr th {\n",
       "        vertical-align: top;\n",
       "    }\n",
       "\n",
       "    .dataframe thead th {\n",
       "        text-align: right;\n",
       "    }\n",
       "</style>\n",
       "<table border=\"1\" class=\"dataframe\">\n",
       "  <thead>\n",
       "    <tr style=\"text-align: right;\">\n",
       "      <th></th>\n",
       "      <th>County_h</th>\n",
       "      <th>County_w</th>\n",
       "      <th>cnt</th>\n",
       "      <th>factor</th>\n",
       "      <th>expandcnt</th>\n",
       "    </tr>\n",
       "  </thead>\n",
       "  <tbody>\n",
       "    <tr>\n",
       "      <th>0</th>\n",
       "      <td>嘉定区</td>\n",
       "      <td>嘉定区</td>\n",
       "      <td>1664</td>\n",
       "      <td>631.709265</td>\n",
       "      <td>1.051164e+06</td>\n",
       "    </tr>\n",
       "    <tr>\n",
       "      <th>1</th>\n",
       "      <td>嘉定区</td>\n",
       "      <td>奉贤区</td>\n",
       "      <td>23</td>\n",
       "      <td>631.709265</td>\n",
       "      <td>1.452931e+04</td>\n",
       "    </tr>\n",
       "    <tr>\n",
       "      <th>2</th>\n",
       "      <td>嘉定区</td>\n",
       "      <td>宝山区</td>\n",
       "      <td>103</td>\n",
       "      <td>631.709265</td>\n",
       "      <td>6.506605e+04</td>\n",
       "    </tr>\n",
       "    <tr>\n",
       "      <th>3</th>\n",
       "      <td>嘉定区</td>\n",
       "      <td>崇明区</td>\n",
       "      <td>5</td>\n",
       "      <td>631.709265</td>\n",
       "      <td>3.158546e+03</td>\n",
       "    </tr>\n",
       "    <tr>\n",
       "      <th>4</th>\n",
       "      <td>嘉定区</td>\n",
       "      <td>徐汇区</td>\n",
       "      <td>30</td>\n",
       "      <td>631.709265</td>\n",
       "      <td>1.895128e+04</td>\n",
       "    </tr>\n",
       "  </tbody>\n",
       "</table>\n",
       "</div>"
      ],
      "text/plain": [
       "  County_h County_w   cnt      factor     expandcnt\n",
       "0      嘉定区      嘉定区  1664  631.709265  1.051164e+06\n",
       "1      嘉定区      奉贤区    23  631.709265  1.452931e+04\n",
       "2      嘉定区      宝山区   103  631.709265  6.506605e+04\n",
       "3      嘉定区      崇明区     5  631.709265  3.158546e+03\n",
       "4      嘉定区      徐汇区    30  631.709265  1.895128e+04"
      ]
     },
     "execution_count": 26,
     "metadata": {},
     "output_type": "execute_result"
    }
   ],
   "source": [
    "hwsh_county_res.head()"
   ]
  },
  {
   "cell_type": "code",
   "execution_count": null,
   "metadata": {
    "collapsed": true
   },
   "outputs": [],
   "source": [
    "hwsh_county_res.to_csv('E:\\\\zhpy\\\\2travel_survey_2009SH\\\\shanghai_homework_county_bygrid.csv',index=False)"
   ]
  },
  {
   "cell_type": "markdown",
   "metadata": {},
   "source": [
    "#### 按乡镇人口扩样"
   ]
  },
  {
   "cell_type": "code",
   "execution_count": 27,
   "metadata": {
    "collapsed": true
   },
   "outputs": [],
   "source": [
    "pop_shtown = pd.read_csv('E:\\\\zy城市群数据分析\\\\0基础数据\\\\上海乡镇人口数据.csv',encoding='gbk')  # 上海乡镇人口"
   ]
  },
  {
   "cell_type": "code",
   "execution_count": 29,
   "metadata": {
    "collapsed": true
   },
   "outputs": [],
   "source": [
    "hwsh_temp = pd.merge(hwsh_grid,grid[['LONCOL','LATCOL','County','name']],\\\n",
    "                     left_on=['loncol_h','latcol_h'],right_on=['LONCOL','LATCOL'],suffixes=['','_h'],how='inner')\n",
    "hwsh_town = pd.merge(hwsh_temp,grid[['LONCOL','LATCOL','County','name']],\\\n",
    "                     left_on=['loncol_w','latcol_w'],right_on=['LONCOL','LATCOL'],suffixes=['_h','_w'],how='inner')"
   ]
  },
  {
   "cell_type": "code",
   "execution_count": 30,
   "metadata": {
    "collapsed": true
   },
   "outputs": [],
   "source": [
    "hwsh_town_cnt = hwsh_town.groupby(['name_h','County_h','name_w','County_w']).loncol_h.count().reset_index()\n",
    "hwsh_town_cnt.rename(columns={'loncol_h':'cnt'},inplace=True)"
   ]
  },
  {
   "cell_type": "code",
   "execution_count": 31,
   "metadata": {},
   "outputs": [],
   "source": [
    "# 扩样\n",
    "town_pop = hwsh_town_cnt.groupby(['name_h','County_h']).cnt.sum().reset_index()\n",
    "\n",
    "town_expand = pd.merge(town_pop,pop_shtown,left_on=['name_h','County_h'],right_on=['name','County'])\n",
    "town_expand['factor'] = town_expand.population / town_expand.cnt"
   ]
  },
  {
   "cell_type": "code",
   "execution_count": 32,
   "metadata": {
    "collapsed": true
   },
   "outputs": [],
   "source": [
    "hwsh_town_res = pd.merge(hwsh_town_cnt,town_expand[['name_h','County_h','factor']],on=['name_h','County_h'])\n",
    "hwsh_town_res['expandcnt'] = hwsh_town_res.cnt * hwsh_town_res.factor"
   ]
  },
  {
   "cell_type": "code",
   "execution_count": 33,
   "metadata": {},
   "outputs": [
    {
     "data": {
      "text/html": [
       "<div>\n",
       "<style scoped>\n",
       "    .dataframe tbody tr th:only-of-type {\n",
       "        vertical-align: middle;\n",
       "    }\n",
       "\n",
       "    .dataframe tbody tr th {\n",
       "        vertical-align: top;\n",
       "    }\n",
       "\n",
       "    .dataframe thead th {\n",
       "        text-align: right;\n",
       "    }\n",
       "</style>\n",
       "<table border=\"1\" class=\"dataframe\">\n",
       "  <thead>\n",
       "    <tr style=\"text-align: right;\">\n",
       "      <th></th>\n",
       "      <th>name_h</th>\n",
       "      <th>County_h</th>\n",
       "      <th>name_w</th>\n",
       "      <th>County_w</th>\n",
       "      <th>cnt</th>\n",
       "      <th>factor</th>\n",
       "      <th>expandcnt</th>\n",
       "    </tr>\n",
       "  </thead>\n",
       "  <tbody>\n",
       "    <tr>\n",
       "      <th>0</th>\n",
       "      <td>七宝镇</td>\n",
       "      <td>闵行区</td>\n",
       "      <td>七宝镇</td>\n",
       "      <td>闵行区</td>\n",
       "      <td>211</td>\n",
       "      <td>371.493508</td>\n",
       "      <td>78385.130236</td>\n",
       "    </tr>\n",
       "    <tr>\n",
       "      <th>1</th>\n",
       "      <td>七宝镇</td>\n",
       "      <td>闵行区</td>\n",
       "      <td>三林镇</td>\n",
       "      <td>浦东新区</td>\n",
       "      <td>3</td>\n",
       "      <td>371.493508</td>\n",
       "      <td>1114.480525</td>\n",
       "    </tr>\n",
       "    <tr>\n",
       "      <th>2</th>\n",
       "      <td>七宝镇</td>\n",
       "      <td>闵行区</td>\n",
       "      <td>中山街道</td>\n",
       "      <td>松江区</td>\n",
       "      <td>3</td>\n",
       "      <td>371.493508</td>\n",
       "      <td>1114.480525</td>\n",
       "    </tr>\n",
       "    <tr>\n",
       "      <th>3</th>\n",
       "      <td>七宝镇</td>\n",
       "      <td>闵行区</td>\n",
       "      <td>临汾路街道</td>\n",
       "      <td>静安区</td>\n",
       "      <td>1</td>\n",
       "      <td>371.493508</td>\n",
       "      <td>371.493508</td>\n",
       "    </tr>\n",
       "    <tr>\n",
       "      <th>4</th>\n",
       "      <td>七宝镇</td>\n",
       "      <td>闵行区</td>\n",
       "      <td>九亭镇</td>\n",
       "      <td>松江区</td>\n",
       "      <td>2</td>\n",
       "      <td>371.493508</td>\n",
       "      <td>742.987016</td>\n",
       "    </tr>\n",
       "  </tbody>\n",
       "</table>\n",
       "</div>"
      ],
      "text/plain": [
       "  name_h County_h name_w County_w  cnt      factor     expandcnt\n",
       "0    七宝镇      闵行区    七宝镇      闵行区  211  371.493508  78385.130236\n",
       "1    七宝镇      闵行区    三林镇     浦东新区    3  371.493508   1114.480525\n",
       "2    七宝镇      闵行区   中山街道      松江区    3  371.493508   1114.480525\n",
       "3    七宝镇      闵行区  临汾路街道      静安区    1  371.493508    371.493508\n",
       "4    七宝镇      闵行区    九亭镇      松江区    2  371.493508    742.987016"
      ]
     },
     "execution_count": 33,
     "metadata": {},
     "output_type": "execute_result"
    }
   ],
   "source": [
    "hwsh_town_res.head()"
   ]
  },
  {
   "cell_type": "code",
   "execution_count": null,
   "metadata": {
    "collapsed": true
   },
   "outputs": [],
   "source": [
    "hwsh_town_res.to_csv('E:\\\\zhpy\\\\2travel_survey_2009SH\\\\shanghai_homework_town_bygrid.csv',index=False)"
   ]
  },
  {
   "cell_type": "markdown",
   "metadata": {},
   "source": [
    "### (2) 南京"
   ]
  },
  {
   "cell_type": "code",
   "execution_count": 34,
   "metadata": {
    "collapsed": true
   },
   "outputs": [],
   "source": [
    "# 南京-----------------------------------------------------------------\n",
    "familyNJ = pd.read_excel('./2015年南京市居民出行数据.xlsx',sheet_name='家庭',usecols=['家庭编号','行政区','街道名称',\\\n",
    "                         '出行月','出行日','家庭坐标X','家庭坐标Y'], dtype={'出行月':str,'出行日':str})\n",
    "familyNJ.rename(columns={'家庭编号':'HomeID','行政区':'H_XZ','街道名称':'H_JD','出行月':'month','出行日':'day',\\\n",
    "                       '家庭坐标X':'HomeCoor_X','家庭坐标Y':'HomeCoor_Y'},inplace=True)\n",
    "familyNJ['date'] = familyNJ[['month','day']].apply(lambda r: '2015' + r.month.zfill(2) + r.day, axis=1)\n",
    "familyNJ['ifworkday'] = familyNJ.date.apply(lambda x: '工作日' if datetime.datetime.strptime(x,'%Y%m%d').weekday() <= 4 else '双休日') # 4为周五\n",
    "\n",
    "\n",
    "personNJ = pd.read_excel('./2015年南京市居民出行数据.xlsx',sheet_name='成员',\\\n",
    "                         usecols=['家庭编号','成员编号','行政区','街道名称','性别','年龄','文化程度','职业'])\n",
    "personNJ.rename(columns={'家庭编号':'HomeID','成员编号':'PersonID','行政区':'H_XZ','街道名称':'H_JD',\\\n",
    "                         '性别':'Gender','年龄':'Age','文化程度':'Education','职业':'Occupant'},inplace=True)\n",
    "\n",
    "\n",
    "tripNJ = pd.read_excel('./2015年南京市居民出行数据.xlsx',sheet_name='出行',usecols=['家庭编号','成员编号','出行编号','出发时间','到达时间',\\\n",
    "                    '出发地坐标X','出发地坐标Y','到达地坐标X','到达地坐标Y','出行目的','同行人数（本人除外）'],\\\n",
    "                    dtype={'出发时间':str, '到达时间':str})\n",
    "tripNJ.rename(columns={'家庭编号':'HomeID','成员编号':'PersonID','出行编号':'TripID','出发时间':'Stime','到达时间':'Etime',\\\n",
    "                    '出发地坐标X':'FROM_X','出发地坐标Y':'FROM_Y','到达地坐标X':'TO_X','到达地坐标Y':'TO_Y',\\\n",
    "                     '出行目的':'Tpurpose','同行人数（本人除外）':'accompany'},inplace=True)\n",
    "\n",
    "def time_string_format(t):\n",
    "    # 将travel中time转换为时间格式\n",
    "    hm = t.zfill(5)\n",
    "    hms = hm[:2] + ':' + hm[2:] + ':00'\n",
    "    return hms\n",
    "\n",
    "tripNJ['Stime'] = tripNJ['Stime'].apply(lambda x: time_string_format(x))\n",
    "tripNJ['Etime'] = tripNJ['Etime'].apply(lambda x: time_string_format(x))\n",
    "tripNJ.sort_values(['HomeID','PersonID','Stime'],inplace=True)\n",
    "\n",
    "# modes = {'1':'Work', '2':'School', '3':'Shop', '4':'Entertain', '5':'Business', '6':'Take', '7':'Home', '8':'Other'}\n",
    "modes = {'上班':'W', '上学':'L', '商场购物':'S', '文娱体育':'E', '商业会务活动':'B', '接送':'T', '回家':'H', \\\n",
    "         '探亲访友':'O','看病探病':'O','日常生活购物':'S','散步':'O','外出餐饮':'O','其他自由目的':'O','贩卖、配送、采购':'O',\\\n",
    "         '其他业务目的':'O','补习、培训班':'O','其他回程':'O','观光旅游':'O','作业、修理':'O','农林渔业作业':'O'}\n",
    "tripNJ.Tpurpose = tripNJ.Tpurpose.map(modes)"
   ]
  },
  {
   "cell_type": "code",
   "execution_count": 35,
   "metadata": {},
   "outputs": [],
   "source": [
    "stayNJ = pd.read_csv('./nanjing_stay.csv')\n",
    "\n",
    "hw_nj = stayNJ[stayNJ.activity == 'W']\n",
    "hw_nj = hw_nj[['HomeID','PersonID','Slon','Slat','HomeCoor_X','HomeCoor_Y','activity']]\n",
    "hw_nj.drop_duplicates('PersonID',keep='first',inplace=True)\n",
    "hw_nj.reset_index(drop=True,inplace=True)"
   ]
  },
  {
   "cell_type": "code",
   "execution_count": 36,
   "metadata": {},
   "outputs": [],
   "source": [
    "hw_nj = hw_nj[(hw_nj.Slon.str.contains('118')  | hw_nj.Slon.str.contains('119'))]\n",
    "hw_nj.Slon = hw_nj.Slon.astype(float)"
   ]
  },
  {
   "cell_type": "code",
   "execution_count": 37,
   "metadata": {
    "collapsed": true
   },
   "outputs": [],
   "source": [
    "pop_nj = pd.DataFrame(\\\n",
    "[['玄武区',60.02],\\\n",
    "['秦淮区',100.03],\\\n",
    "['建邺区',47.26],\\\n",
    "['鼓楼区',116.84],\\\n",
    "['浦口区',79.88],\\\n",
    "['栖霞区',71.79],\\\n",
    "['雨花台区',45.45],\\\n",
    "['江宁区',124.85],\\\n",
    "['六合区',96.35],\\\n",
    "['溧水区',46.39],\\\n",
    "['高淳区',44.64]],columns=['County','population'])"
   ]
  },
  {
   "cell_type": "code",
   "execution_count": 38,
   "metadata": {},
   "outputs": [],
   "source": [
    "hw_nj['loncol_h'] = hw_nj.HomeCoor_X.apply(lambda x: int((x-(118.36 - 0.005304 / 2))/0.005304))\n",
    "hw_nj['latcol_h'] = hw_nj.HomeCoor_Y.apply(lambda y: int((y-(30.67 - 0.0044966 / 2))/ 0.0044966))\n",
    "hw_nj['loncol_w'] = hw_nj.Slon.apply(lambda x: int((x-(118.36 - 0.005304 / 2))/0.005304))\n",
    "hw_nj['latcol_w'] = hw_nj.Slat.apply(lambda y: int((y-(30.67 - 0.0044966 / 2))/ 0.0044966))"
   ]
  },
  {
   "cell_type": "code",
   "execution_count": 39,
   "metadata": {
    "collapsed": true
   },
   "outputs": [],
   "source": [
    "hwnj_temp = pd.merge(hw_nj,grid[['LONCOL','LATCOL','County']],\\\n",
    "                     left_on=['loncol_h','latcol_h'],right_on=['LONCOL','LATCOL'],suffixes=['','_h'],how='inner')\n",
    "hwnj_county = pd.merge(hwnj_temp,grid[['LONCOL','LATCOL','County']],\\\n",
    "                     left_on=['loncol_w','latcol_w'],right_on=['LONCOL','LATCOL'],suffixes=['_h','_w'],how='inner')"
   ]
  },
  {
   "cell_type": "code",
   "execution_count": 40,
   "metadata": {
    "collapsed": true
   },
   "outputs": [],
   "source": [
    "hwnj_county_cnt = hwnj_county.groupby(['County_h','County_w']).loncol_h.count().reset_index()\n",
    "hwnj_county_cnt.rename(columns={'loncol_h':'cnt'},inplace=True)"
   ]
  },
  {
   "cell_type": "code",
   "execution_count": 41,
   "metadata": {
    "collapsed": true
   },
   "outputs": [],
   "source": [
    "# 扩样\n",
    "county_pop_nj = hwnj_county_cnt.groupby('County_h').cnt.sum().reset_index()\n",
    "\n",
    "county_expand_nj = pd.merge(county_pop_nj,pop_nj,left_on='County_h',right_on='County')\n",
    "county_expand_nj['factor'] = county_expand_nj.population / county_expand_nj.cnt * 10000"
   ]
  },
  {
   "cell_type": "code",
   "execution_count": 42,
   "metadata": {
    "collapsed": true
   },
   "outputs": [],
   "source": [
    "hwnj_county_res = pd.merge(hwnj_county_cnt,county_expand_nj[['County_h','factor']],on='County_h')\n",
    "hwnj_county_res['expandcnt'] = hwnj_county_res.cnt * hwnj_county_res.factor"
   ]
  },
  {
   "cell_type": "code",
   "execution_count": 43,
   "metadata": {},
   "outputs": [
    {
     "data": {
      "text/html": [
       "<div>\n",
       "<style scoped>\n",
       "    .dataframe tbody tr th:only-of-type {\n",
       "        vertical-align: middle;\n",
       "    }\n",
       "\n",
       "    .dataframe tbody tr th {\n",
       "        vertical-align: top;\n",
       "    }\n",
       "\n",
       "    .dataframe thead th {\n",
       "        text-align: right;\n",
       "    }\n",
       "</style>\n",
       "<table border=\"1\" class=\"dataframe\">\n",
       "  <thead>\n",
       "    <tr style=\"text-align: right;\">\n",
       "      <th></th>\n",
       "      <th>County_h</th>\n",
       "      <th>County_w</th>\n",
       "      <th>cnt</th>\n",
       "      <th>factor</th>\n",
       "      <th>expandcnt</th>\n",
       "    </tr>\n",
       "  </thead>\n",
       "  <tbody>\n",
       "    <tr>\n",
       "      <th>0</th>\n",
       "      <td>六合区</td>\n",
       "      <td>六合区</td>\n",
       "      <td>2192</td>\n",
       "      <td>396.992171</td>\n",
       "      <td>870206.839720</td>\n",
       "    </tr>\n",
       "    <tr>\n",
       "      <th>1</th>\n",
       "      <td>六合区</td>\n",
       "      <td>建邺区</td>\n",
       "      <td>13</td>\n",
       "      <td>396.992171</td>\n",
       "      <td>5160.898228</td>\n",
       "    </tr>\n",
       "    <tr>\n",
       "      <th>2</th>\n",
       "      <td>六合区</td>\n",
       "      <td>栖霞区</td>\n",
       "      <td>26</td>\n",
       "      <td>396.992171</td>\n",
       "      <td>10321.796457</td>\n",
       "    </tr>\n",
       "    <tr>\n",
       "      <th>3</th>\n",
       "      <td>六合区</td>\n",
       "      <td>江宁区</td>\n",
       "      <td>9</td>\n",
       "      <td>396.992171</td>\n",
       "      <td>3572.929543</td>\n",
       "    </tr>\n",
       "    <tr>\n",
       "      <th>4</th>\n",
       "      <td>六合区</td>\n",
       "      <td>浦口区</td>\n",
       "      <td>105</td>\n",
       "      <td>396.992171</td>\n",
       "      <td>41684.177998</td>\n",
       "    </tr>\n",
       "  </tbody>\n",
       "</table>\n",
       "</div>"
      ],
      "text/plain": [
       "  County_h County_w   cnt      factor      expandcnt\n",
       "0      六合区      六合区  2192  396.992171  870206.839720\n",
       "1      六合区      建邺区    13  396.992171    5160.898228\n",
       "2      六合区      栖霞区    26  396.992171   10321.796457\n",
       "3      六合区      江宁区     9  396.992171    3572.929543\n",
       "4      六合区      浦口区   105  396.992171   41684.177998"
      ]
     },
     "execution_count": 43,
     "metadata": {},
     "output_type": "execute_result"
    }
   ],
   "source": [
    "hwnj_county_res.head()"
   ]
  },
  {
   "cell_type": "code",
   "execution_count": null,
   "metadata": {
    "collapsed": true
   },
   "outputs": [],
   "source": [
    "hwnj_county_res.to_csv('E:\\\\zhpy\\\\2travel_survey_2009SH\\\\nanjing_homework_county_bygrid.csv',index=False)"
   ]
  },
  {
   "cell_type": "markdown",
   "metadata": {},
   "source": [
    "#### by xingzhen"
   ]
  },
  {
   "cell_type": "code",
   "execution_count": 45,
   "metadata": {},
   "outputs": [],
   "source": [
    "# 搜索居住工作所对应的的栅格\n",
    "town = gpd.read_file('E:\\\\zy城市群数据分析\\\\0栅格数据\\\\9市街道区划\\\\9市街道区划-合并.shp')   # 乡镇数据\n",
    "townNJ = town[town.City=='南京市']\n",
    "townNJ.reset_index(drop=True,inplace=True)\n",
    "\n",
    "workNJ = hw_nj.copy()\n",
    "survey_town = list()\n",
    "for pers in workNJ.PersonID.unique():\n",
    "    workplace = shapely.geometry.Point(workNJ.loc[workNJ.PersonID==pers,['Slon','Slat']].values[0])\n",
    "    wname, wcounty = '', ''\n",
    "    for j in range(len(townNJ)):\n",
    "        town_polygon = townNJ.loc[j,'geometry']\n",
    "        if town_polygon.contains(workplace):\n",
    "            wname, wcounty = townNJ.loc[j,['name','County']].values.tolist()\n",
    "    survey_town.append([pers, wname, wcounty])"
   ]
  },
  {
   "cell_type": "code",
   "execution_count": 46,
   "metadata": {
    "collapsed": true
   },
   "outputs": [],
   "source": [
    "surveyBase = pd.DataFrame(survey_town,columns=['PersonID','name_w','County_w'])\n",
    "surveyBase.dropna(inplace=True)\n",
    "surveyBase = surveyBase[surveyBase.County_w != '']\n",
    "\n",
    "survey_county = pd.merge(personNJ,surveyBase,on='PersonID',how='right')\n",
    "\n",
    "hwNJ_cnt = survey_county.groupby(['H_XZ','County_w']).PersonID.count().reset_index()\n",
    "hwNJ_cnt.rename(columns={'PersonID':'cnt','County_w':'W_XZ'},inplace=True)   "
   ]
  },
  {
   "cell_type": "code",
   "execution_count": 47,
   "metadata": {},
   "outputs": [
    {
     "data": {
      "text/html": [
       "<div>\n",
       "<style scoped>\n",
       "    .dataframe tbody tr th:only-of-type {\n",
       "        vertical-align: middle;\n",
       "    }\n",
       "\n",
       "    .dataframe tbody tr th {\n",
       "        vertical-align: top;\n",
       "    }\n",
       "\n",
       "    .dataframe thead th {\n",
       "        text-align: right;\n",
       "    }\n",
       "</style>\n",
       "<table border=\"1\" class=\"dataframe\">\n",
       "  <thead>\n",
       "    <tr style=\"text-align: right;\">\n",
       "      <th></th>\n",
       "      <th>H_XZ</th>\n",
       "      <th>W_XZ</th>\n",
       "      <th>cnt</th>\n",
       "    </tr>\n",
       "  </thead>\n",
       "  <tbody>\n",
       "    <tr>\n",
       "      <th>0</th>\n",
       "      <td>六合区</td>\n",
       "      <td>六合区</td>\n",
       "      <td>2209</td>\n",
       "    </tr>\n",
       "    <tr>\n",
       "      <th>1</th>\n",
       "      <td>六合区</td>\n",
       "      <td>建邺区</td>\n",
       "      <td>13</td>\n",
       "    </tr>\n",
       "    <tr>\n",
       "      <th>2</th>\n",
       "      <td>六合区</td>\n",
       "      <td>栖霞区</td>\n",
       "      <td>26</td>\n",
       "    </tr>\n",
       "    <tr>\n",
       "      <th>3</th>\n",
       "      <td>六合区</td>\n",
       "      <td>江宁区</td>\n",
       "      <td>9</td>\n",
       "    </tr>\n",
       "    <tr>\n",
       "      <th>4</th>\n",
       "      <td>六合区</td>\n",
       "      <td>浦口区</td>\n",
       "      <td>94</td>\n",
       "    </tr>\n",
       "  </tbody>\n",
       "</table>\n",
       "</div>"
      ],
      "text/plain": [
       "  H_XZ W_XZ   cnt\n",
       "0  六合区  六合区  2209\n",
       "1  六合区  建邺区    13\n",
       "2  六合区  栖霞区    26\n",
       "3  六合区  江宁区     9\n",
       "4  六合区  浦口区    94"
      ]
     },
     "execution_count": 47,
     "metadata": {},
     "output_type": "execute_result"
    }
   ],
   "source": [
    "hwNJ_cnt.head()"
   ]
  },
  {
   "cell_type": "code",
   "execution_count": 48,
   "metadata": {
    "collapsed": true
   },
   "outputs": [],
   "source": [
    "# 扩样\n",
    "expandNJ = hwNJ_cnt.groupby('H_XZ').cnt.sum().reset_index()\n",
    "expandNJ = pd.merge(expandNJ, pop_nj, left_on='H_XZ',right_on='County')\n",
    "expandNJ['factor'] = expandNJ.population / expandNJ.cnt * 10000   # 扩样因子\n",
    "\n",
    "hwNJ_ncnt = pd.merge(hwNJ_cnt,expandNJ[['H_XZ','factor']], on='H_XZ')\n",
    "hwNJ_ncnt['new_cnt'] = hwNJ_ncnt.cnt * hwNJ_ncnt.factor"
   ]
  },
  {
   "cell_type": "code",
   "execution_count": null,
   "metadata": {
    "collapsed": true
   },
   "outputs": [],
   "source": [
    "hwNJ_ncnt.to_csv('./nanjing_homework_county_byxz.csv.csv',index=False,encoding='gb2312')"
   ]
  }
 ],
 "metadata": {
  "kernelspec": {
   "display_name": "Python 3",
   "language": "python",
   "name": "python3"
  },
  "language_info": {
   "codemirror_mode": {
    "name": "ipython",
    "version": 3
   },
   "file_extension": ".py",
   "mimetype": "text/x-python",
   "name": "python",
   "nbconvert_exporter": "python",
   "pygments_lexer": "ipython3",
   "version": "3.6.3"
  }
 },
 "nbformat": 4,
 "nbformat_minor": 2
}
