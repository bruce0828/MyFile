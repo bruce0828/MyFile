{
 "cells": [
  {
   "cell_type": "markdown",
   "metadata": {},
   "source": [
    "### guess number game\n",
    "* number game, manually input\n",
    "* when input 'end' anytime, the game is interrupted."
   ]
  },
  {
   "cell_type": "code",
   "execution_count": 1,
   "metadata": {},
   "outputs": [
    {
     "name": "stdout",
     "output_type": "stream",
     "text": [
      "Please set the bottom value in the game:1\n",
      "Please set the top value in the game:100\n",
      "Please input a number within [1,100]: 50\n",
      "The value input is bigger. Try with a new number within [1,50]\n",
      "Please input a number: 30\n",
      "The value input is bigger. Try with a new number within [1,30]\n",
      "Please input a number: 20\n",
      "The value input is bigger. Try with a new number within [1,20]\n",
      "Please input a number: 10\n",
      "The value input is bigger. Try with a new number within [1,10]\n",
      "Please input a number: 4\n",
      "The value input is smaller. Try with a new number within [4,10]\n",
      "Please input a number: 6\n",
      "The value input is smaller. Try with a new number within [6,10]\n",
      "Please input a number: 8\n",
      "The value input is smaller. Try with a new number within [8,10]\n",
      "Please input a number: 9\n",
      "Congratulations! The number is \u001b[1m9\u001b[0m.\n"
     ]
    }
   ],
   "source": [
    "import random\n",
    "low = input('Please set the bottom value in the game:')\n",
    "top = input('Please set the top value in the game:')\n",
    "low, top = int(low), int(top)\n",
    "num = random.randint(low,top)\n",
    "val = input('Please input a number within [{0},{1}]: '.format(low,top))\n",
    "val_low = low\n",
    "val_top = top\n",
    "while val == 'end' or val != num:\n",
    "    if val == 'end':\n",
    "        print('Game interrupted.')\n",
    "        break\n",
    "    else:\n",
    "        val = int(val)\n",
    "    \n",
    "    if val > num:\n",
    "        val_top = val\n",
    "        print('The value input is bigger. Try with a new number within [{0},{1}]'.format(val_low,val))\n",
    "        val = input('Please input a number: ')\n",
    "    elif val < num:\n",
    "        val_low = val\n",
    "        print('The value input is smaller. Try with a new number within [{0},{1}]'.format(val,val_top))\n",
    "        val = input('Please input a number: ')\n",
    "else:\n",
    "    print('Congratulations! The number is \\033[1m{}\\033[0m.'.format(val))"
   ]
  }
 ],
 "metadata": {
  "kernelspec": {
   "display_name": "Python 3",
   "language": "python",
   "name": "python3"
  },
  "language_info": {
   "codemirror_mode": {
    "name": "ipython",
    "version": 3
   },
   "file_extension": ".py",
   "mimetype": "text/x-python",
   "name": "python",
   "nbconvert_exporter": "python",
   "pygments_lexer": "ipython3",
   "version": "3.6.2"
  }
 },
 "nbformat": 4,
 "nbformat_minor": 2
}
